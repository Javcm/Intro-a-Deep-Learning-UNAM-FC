{
  "nbformat": 4,
  "nbformat_minor": 0,
  "metadata": {
    "colab": {
      "name": "Ejercicios_Pandas.ipynb",
      "provenance": [],
      "collapsed_sections": [],
      "authorship_tag": "ABX9TyM4yMUijUALFP4UNQSTb4o4",
      "include_colab_link": true
    },
    "kernelspec": {
      "name": "python3",
      "display_name": "Python 3"
    },
    "language_info": {
      "name": "python"
    }
  },
  "cells": [
    {
      "cell_type": "markdown",
      "metadata": {
        "id": "view-in-github",
        "colab_type": "text"
      },
      "source": [
        "<a href=\"https://colab.research.google.com/github/Javcm/Intro-a-Deep-Learning-UNAM-FC/blob/main/Ejercicios_Pandas.ipynb\" target=\"_parent\"><img src=\"https://colab.research.google.com/assets/colab-badge.svg\" alt=\"Open In Colab\"/></a>"
      ]
    },
    {
      "cell_type": "markdown",
      "metadata": {
        "id": "nl3G-MIqjRFl"
      },
      "source": [
        "No olvides revisar la Documentación de [Pandas](https://pandas.pydata.org/docs/index.html#)."
      ]
    },
    {
      "cell_type": "markdown",
      "metadata": {
        "id": "algrwCA6e-cw"
      },
      "source": [
        "<font size = 5 font color = \"royalblue\">\n",
        "<i>*Ejercicio 1*</i>"
      ]
    },
    {
      "cell_type": "markdown",
      "metadata": {
        "id": "Pc3O54Krfigu"
      },
      "source": [
        "Un concepto últil de manejar es el de <i>__Series__</i>, esto nos permite convertir listas, diccionarios y otros objetos de Python en objetos compatibles con Pandas."
      ]
    },
    {
      "cell_type": "code",
      "metadata": {
        "colab": {
          "base_uri": "https://localhost:8080/"
        },
        "id": "FERQljjaiNB4",
        "outputId": "b0a78180-bc5d-47da-9921-a8c1d997ea9d"
      },
      "source": [
        "#Convierte en Series los siguientes objetos\n",
        "\n",
        "import pandas as pd\n",
        "import numpy as np\n",
        "\n",
        "\n",
        "a_list = list('abcedfghijklmnopqrstuvwxyz')\n",
        "an_arr = np.arange(26)\n",
        "a_dict = dict(zip(a_list, an_arr))\n",
        "\n",
        "#Por ejemplo\n",
        "serie_1 = pd.Series(a_list)\n",
        "print(serie_1, \"\\n\", type(serie_1))"
      ],
      "execution_count": null,
      "outputs": [
        {
          "output_type": "stream",
          "name": "stdout",
          "text": [
            "0     a\n",
            "1     b\n",
            "2     c\n",
            "3     e\n",
            "4     d\n",
            "5     f\n",
            "6     g\n",
            "7     h\n",
            "8     i\n",
            "9     j\n",
            "10    k\n",
            "11    l\n",
            "12    m\n",
            "13    n\n",
            "14    o\n",
            "15    p\n",
            "16    q\n",
            "17    r\n",
            "18    s\n",
            "19    t\n",
            "20    u\n",
            "21    v\n",
            "22    w\n",
            "23    x\n",
            "24    y\n",
            "25    z\n",
            "dtype: object \n",
            " <class 'pandas.core.series.Series'>\n"
          ]
        }
      ]
    },
    {
      "cell_type": "markdown",
      "metadata": {
        "id": "iDj4LVEdiWuO"
      },
      "source": [
        "Hint [aquí](https://pandas.pydata.org/docs/reference/api/pandas.Series.html).\n",
        "\n",
        "Pregunta: <i>__¿Qué hace el método ZIP() con el que se define el diccionario para la última serie?__</i>"
      ]
    },
    {
      "cell_type": "code",
      "metadata": {
        "id": "s0rfY-YNk5r-"
      },
      "source": [
        "#Tu código aquí :)\n"
      ],
      "execution_count": null,
      "outputs": []
    },
    {
      "cell_type": "markdown",
      "metadata": {
        "id": "akZnt-sjjc-J"
      },
      "source": [
        "<font size = 5 font color = \"royalblue\">\n",
        "<i>*Ejercicio 2*</i>"
      ]
    },
    {
      "cell_type": "markdown",
      "metadata": {
        "id": "uV7lTi9mkvkv"
      },
      "source": [
        "Convierte las primeras <i>__2__</i> series generadas arriba en un dataframe.\n",
        "\n",
        "[Hint 1](https://pandas.pydata.org/docs/reference/api/pandas.DataFrame.html)\n",
        "\n",
        "[Hint 2](https://pandas.pydata.org/docs/reference/api/pandas.concat.html)\n",
        "\n",
        "*Sugerencia: investiga el método \"Reset Index\" aplicado a los dataframes y aplícalo a tu dataframe. ¿Qué pasa si no lo aplicas?"
      ]
    },
    {
      "cell_type": "code",
      "metadata": {
        "id": "HxKjLJDZrXV0"
      },
      "source": [
        "#Tu código aquí :)"
      ],
      "execution_count": null,
      "outputs": []
    },
    {
      "cell_type": "markdown",
      "metadata": {
        "id": "KfAdg5_JsQ67"
      },
      "source": [
        "<font size = 5 font color = \"royalblue\">\n",
        "<i>*Ejercicio 3*</i>"
      ]
    },
    {
      "cell_type": "markdown",
      "metadata": {
        "id": "wSPy47EKtDlo"
      },
      "source": [
        "Dadas las siguientes series:\n"
      ]
    },
    {
      "cell_type": "code",
      "metadata": {
        "id": "R777-Qrwt7Pt"
      },
      "source": [
        "serie_1 = pd.Series([1, 2, 3, 4, 5])\n",
        "serie_2 = pd.Series([4, 5, 6, 7, 8])"
      ],
      "execution_count": null,
      "outputs": []
    },
    {
      "cell_type": "markdown",
      "metadata": {
        "id": "UfS5eZEbuGRK"
      },
      "source": [
        "Encuentra todos los elementos de la serie 1 que se encuentran en la serie 2 y viceversa.\n",
        "Después encuentra todos los elementos de la serie 1 que NO están en la serie 2 y viceversa.\n",
        "\n",
        "[Hint](https://pandas.pydata.org/docs/reference/api/pandas.DataFrame.isin.html)\n",
        "\n",
        "\n",
        "*Sugerencia: Podemos invertir valores booleanos utilizando el simbolo ~ en Series de Pandas"
      ]
    },
    {
      "cell_type": "code",
      "metadata": {
        "colab": {
          "base_uri": "https://localhost:8080/"
        },
        "id": "MtRaIUpfyaiD",
        "outputId": "0bc114cf-a215-445c-fc66-34bb005a9435"
      },
      "source": [
        "#EJEMPLO\n",
        "a_serie = pd.Series([True, False, True])\n",
        "print(~a_serie)"
      ],
      "execution_count": null,
      "outputs": [
        {
          "output_type": "stream",
          "name": "stdout",
          "text": [
            "0    False\n",
            "1     True\n",
            "2    False\n",
            "dtype: bool\n"
          ]
        }
      ]
    },
    {
      "cell_type": "code",
      "metadata": {
        "id": "umhZRnaXtDv8"
      },
      "source": [
        "#Tu código aquí :)\n"
      ],
      "execution_count": null,
      "outputs": []
    },
    {
      "cell_type": "markdown",
      "metadata": {
        "id": "7c6dJVBd1KkD"
      },
      "source": [
        "¿Podrías juntar los elementos que NO se comparten entre las series en una misma serie?\n",
        "\n",
        "[Hint](https://pandas.pydata.org/docs/reference/api/pandas.Series.append.html)"
      ]
    },
    {
      "cell_type": "code",
      "metadata": {
        "id": "nWwvpGXpU1mK"
      },
      "source": [
        "#Tu código aquí :)\n"
      ],
      "execution_count": null,
      "outputs": []
    },
    {
      "cell_type": "markdown",
      "metadata": {
        "id": "JH5I6Hi9tDzM"
      },
      "source": [
        "<font size = 5 font color = \"royalblue\">\n",
        "<i>*Ejercicio 4*</i>"
      ]
    },
    {
      "cell_type": "markdown",
      "metadata": {
        "id": "sF3Xx6Whj3RO"
      },
      "source": [
        "Cuando trabajamos con números generados \"aleatoreamente\" una forma útil de reproducir nuestros resultados es utilizando \"semillas\", estas son un número a partir del cual Numpy generará los arreglos de números aleatoreos.\n",
        "\n",
        "Por ejemplo:"
      ]
    },
    {
      "cell_type": "code",
      "metadata": {
        "id": "zR0x9Zx3lck8"
      },
      "source": [
        "#Definimos una semilla utilizando el método de Numpy \"random.seed()\" y colocando un número entre los paréntesis.\n",
        "#En este caso se colocó el número 7.\n",
        "np.random.seed(7) #7"
      ],
      "execution_count": null,
      "outputs": []
    },
    {
      "cell_type": "markdown",
      "metadata": {
        "id": "A2h8XuL9jrwO"
      },
      "source": [
        "Utilizando el método de Numpy: [random.randint()](https://numpy.org/doc/stable/reference/random/generated/numpy.random.randint.html) podemos generar un arreglo de 30 números enteros entre 0 y 10."
      ]
    },
    {
      "cell_type": "code",
      "metadata": {
        "colab": {
          "base_uri": "https://localhost:8080/"
        },
        "id": "pjcQ06SOl5zE",
        "outputId": "1728be66-295b-4709-c835-821691e43bae"
      },
      "source": [
        "random_array = np.random.randint(0,10, size=(30))\n",
        "random_array"
      ],
      "execution_count": null,
      "outputs": [
        {
          "output_type": "execute_result",
          "data": {
            "text/plain": [
              "array([4, 9, 6, 3, 3, 7, 7, 9, 7, 8, 9, 8, 7, 6, 4, 0, 7, 0, 7, 6, 3, 5,\n",
              "       8, 8, 7, 5, 0, 0, 2, 8])"
            ]
          },
          "metadata": {},
          "execution_count": 12
        }
      ]
    },
    {
      "cell_type": "markdown",
      "metadata": {
        "id": "zyemV0w-okB9"
      },
      "source": [
        "Dada la siguiente lista:\n"
      ]
    },
    {
      "cell_type": "code",
      "metadata": {
        "colab": {
          "base_uri": "https://localhost:8080/"
        },
        "id": "6Cb-_u-ZotoY",
        "outputId": "ed95d3f5-5a47-41d6-dcdd-bc551228c6dc"
      },
      "source": [
        "a_list = list('abcdefghij')\n",
        "a_list"
      ],
      "execution_count": null,
      "outputs": [
        {
          "output_type": "execute_result",
          "data": {
            "text/plain": [
              "['a', 'b', 'c', 'd', 'e', 'f', 'g', 'h', 'i', 'j']"
            ]
          },
          "metadata": {},
          "execution_count": 13
        }
      ]
    },
    {
      "cell_type": "markdown",
      "metadata": {
        "id": "sEtKmimEov7n"
      },
      "source": [
        "Obtén la letra correspondiente a cada valor numérico en el arreglo aleatorio. \n",
        "\n",
        "Por ejemplo, el primer valor del arreglo es 4, entonces la letra correspondiente es la \"e\" (recordar que Python cuenta a partir de 0). El segundo valor del arreglo aleatorio es el 9, entonces la letra correspondiente es la \"j\". Y así consecutivamente. \n",
        "\n",
        "Guarda tus resultados en un arreglo de Numpy.\n",
        "\n",
        "[Hint Aquí.](https://numpy.org/doc/stable/reference/generated/numpy.take.html)"
      ]
    },
    {
      "cell_type": "code",
      "metadata": {
        "id": "QcFOmNeMu2hO"
      },
      "source": [
        "#Tu código aquí :)\n"
      ],
      "execution_count": null,
      "outputs": []
    },
    {
      "cell_type": "markdown",
      "metadata": {
        "id": "sckf90v9n-Qg"
      },
      "source": [
        "Determina cuántas veces aparece cada letra en tu arreglo.\n",
        "\n",
        "[Hint Aquí.](https://pandas.pydata.org/docs/reference/api/pandas.Series.value_counts.html)"
      ]
    },
    {
      "cell_type": "code",
      "metadata": {
        "id": "Zw8ZBwY-u1xD"
      },
      "source": [
        "#Tu código aquí :)\n"
      ],
      "execution_count": null,
      "outputs": []
    },
    {
      "cell_type": "markdown",
      "metadata": {
        "id": "-79nE_r7vBII"
      },
      "source": [
        "<font size = 5 font color = \"royalblue\">\n",
        "<i>*Ejercicio 5*</i>"
      ]
    },
    {
      "cell_type": "markdown",
      "metadata": {
        "id": "bNnGgocE0_JY"
      },
      "source": [
        "Dada la siguiente serie:"
      ]
    },
    {
      "cell_type": "code",
      "metadata": {
        "colab": {
          "base_uri": "https://localhost:8080/"
        },
        "id": "HLgJH5KmtEGG",
        "outputId": "def2ade1-5c28-45b2-ad64-705fb7e6ae38"
      },
      "source": [
        "serie_letters = pd.Series(list('abcdefghijklmnopqrstuvwxyz'))\n",
        "serie_letters"
      ],
      "execution_count": null,
      "outputs": [
        {
          "output_type": "execute_result",
          "data": {
            "text/plain": [
              "0     a\n",
              "1     b\n",
              "2     c\n",
              "3     d\n",
              "4     e\n",
              "5     f\n",
              "6     g\n",
              "7     h\n",
              "8     i\n",
              "9     j\n",
              "10    k\n",
              "11    l\n",
              "12    m\n",
              "13    n\n",
              "14    o\n",
              "15    p\n",
              "16    q\n",
              "17    r\n",
              "18    s\n",
              "19    t\n",
              "20    u\n",
              "21    v\n",
              "22    w\n",
              "23    x\n",
              "24    y\n",
              "25    z\n",
              "dtype: object"
            ]
          },
          "metadata": {},
          "execution_count": 19
        }
      ]
    },
    {
      "cell_type": "markdown",
      "metadata": {
        "id": "Y1YrNEYD0-e_"
      },
      "source": [
        "Obtén la letra en las siguientes posiciones:"
      ]
    },
    {
      "cell_type": "code",
      "metadata": {
        "id": "i0fXpd2ZtEJe"
      },
      "source": [
        "positions = [0, 4, 8, 14, 20]"
      ],
      "execution_count": null,
      "outputs": []
    },
    {
      "cell_type": "code",
      "metadata": {
        "id": "9f4d0HARtEM1"
      },
      "source": [
        "#Tu código aquí :)\n"
      ],
      "execution_count": null,
      "outputs": []
    },
    {
      "cell_type": "markdown",
      "metadata": {
        "id": "uven3BYItEek"
      },
      "source": [
        "<font size = 5 font color = \"royalblue\">\n",
        "<i>*Ejercicio 6*</i>"
      ]
    },
    {
      "cell_type": "markdown",
      "metadata": {
        "id": "X01BFRSJvPxs"
      },
      "source": [
        "Utilizando el archivo CSV <i>__unique_m.csv__</i>, determina el número de compuestos que tienen hidrógeno en su composición y que tienen una temperatura crítica inferior a los 100 Kelvin."
      ]
    },
    {
      "cell_type": "code",
      "metadata": {
        "id": "SiAD23a6_RNP"
      },
      "source": [
        "#Tu código aquí :)"
      ],
      "execution_count": null,
      "outputs": []
    },
    {
      "cell_type": "markdown",
      "metadata": {
        "id": "4cwXJ8M3vP4N"
      },
      "source": [
        "<font size = 5 font color = \"royalblue\">\n",
        "<i>*Ejercicio 7*</i>"
      ]
    },
    {
      "cell_type": "markdown",
      "metadata": {
        "id": "XiJju3ytvP9B"
      },
      "source": [
        "¿Cuál es el promedio de la fracción de composición de hidrógeno en los compuestos obtenidos en el ejercicio 6 y qué valores tienen los \tcuartiles (25%, 50%, 75%) en su temperatura crítica?"
      ]
    },
    {
      "cell_type": "code",
      "metadata": {
        "id": "xubjVfpF_QRf"
      },
      "source": [
        "#Tu código aquí :)"
      ],
      "execution_count": null,
      "outputs": []
    },
    {
      "cell_type": "markdown",
      "metadata": {
        "id": "CExfCs0JtEiI"
      },
      "source": [
        "<font size = 5 font color = \"royalblue\">\n",
        "<i>*Ejercicio 8*</i>"
      ]
    },
    {
      "cell_type": "markdown",
      "metadata": {
        "id": "p_WWJclh_J_z"
      },
      "source": [
        "¿Cuántos superconductores con temperatura crítica menor a 80 kelvin tienen en su composición átomos de titanio (Ti) y oxígeno (O)?"
      ]
    },
    {
      "cell_type": "code",
      "metadata": {
        "id": "o5fCoq8ItElQ"
      },
      "source": [
        "#Tu código aquí :)"
      ],
      "execution_count": null,
      "outputs": []
    }
  ]
}