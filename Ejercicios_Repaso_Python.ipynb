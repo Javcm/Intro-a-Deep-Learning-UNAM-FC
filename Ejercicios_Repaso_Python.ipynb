{
  "nbformat": 4,
  "nbformat_minor": 0,
  "metadata": {
    "colab": {
      "name": "Ejercicios_Sesión1.ipynb",
      "provenance": [],
      "collapsed_sections": [],
      "authorship_tag": "ABX9TyPM+e5AbhLPrW8WVXeOq9Rx",
      "include_colab_link": true
    },
    "kernelspec": {
      "name": "python3",
      "display_name": "Python 3"
    }
  },
  "cells": [
    {
      "cell_type": "markdown",
      "metadata": {
        "id": "view-in-github",
        "colab_type": "text"
      },
      "source": [
        "<a href=\"https://colab.research.google.com/github/Javcm/Intro-a-Deep-Learning-UNAM-FC/blob/main/Ejercicios_Repaso_Python.ipynb\" target=\"_parent\"><img src=\"https://colab.research.google.com/assets/colab-badge.svg\" alt=\"Open In Colab\"/></a>"
      ]
    },
    {
      "cell_type": "markdown",
      "metadata": {
        "id": "c0m7yt9HjJWA"
      },
      "source": [
        "1. Hacer un programa que sume los primeros 50 números pares sin usar fórmulas.\n",
        "\n",
        "Respuesta: 2450"
      ]
    },
    {
      "cell_type": "code",
      "metadata": {
        "id": "cJLmSz7kjgny"
      },
      "source": [
        ""
      ],
      "execution_count": null,
      "outputs": []
    },
    {
      "cell_type": "markdown",
      "metadata": {
        "id": "eI0oaA9qjKsd"
      },
      "source": [
        "2. Ordenar los elementos de una lista según el número de vocales que tiene cada palabra."
      ]
    },
    {
      "cell_type": "code",
      "metadata": {
        "id": "ea4adUyYjHCc"
      },
      "source": [
        ""
      ],
      "execution_count": null,
      "outputs": []
    },
    {
      "cell_type": "markdown",
      "metadata": {
        "id": "uw4-e6JWjL4Q"
      },
      "source": [
        "3. Escriba una función que tome dos listas y devuelva True si tienen al menos un miembro común."
      ]
    },
    {
      "cell_type": "code",
      "metadata": {
        "id": "habrIrWYjHGd"
      },
      "source": [
        ""
      ],
      "execution_count": null,
      "outputs": []
    },
    {
      "cell_type": "markdown",
      "metadata": {
        "id": "AxZriEWxjMrb"
      },
      "source": [
        "4. Escriba un programa para obtener un string a partir de un string dado, donde todas las apariciones de su primer carácter se han cambiado a '\\$', excepto el primer carácter en sí.\n",
        "\n",
        "Sample String : 'restart'\n",
        "\n",
        "Expected Result : 'resta$t'"
      ]
    },
    {
      "cell_type": "code",
      "metadata": {
        "id": "0QK0ANmZjHK4"
      },
      "source": [
        ""
      ],
      "execution_count": null,
      "outputs": []
    },
    {
      "cell_type": "markdown",
      "metadata": {
        "id": "LkccegP3moJs"
      },
      "source": [
        "5. Escriba un programa que tome un string y calcula el número de dígitos y letras que contiene.\n",
        "\n",
        "Ejemplo: Dado el string \"hola23\", debería devolver:\n",
        "\n",
        "letras = 4\n",
        "dígitos = 2"
      ]
    },
    {
      "cell_type": "code",
      "metadata": {
        "id": "GM1au6XAjHPt"
      },
      "source": [
        ""
      ],
      "execution_count": null,
      "outputs": []
    },
    {
      "cell_type": "markdown",
      "metadata": {
        "id": "kizzfKchnPbp"
      },
      "source": [
        "6. Cree un programa para crear la tabla de multiplicar (del 1 al 10) de un número."
      ]
    },
    {
      "cell_type": "code",
      "metadata": {
        "id": "Xjv1meN1jHTd"
      },
      "source": [
        ""
      ],
      "execution_count": null,
      "outputs": []
    },
    {
      "cell_type": "markdown",
      "metadata": {
        "id": "-KThPYyhng5u"
      },
      "source": [
        "7. Escriba un programa para verificar la validez de la contraseña ingresada por los usuarios. Con las siguientes condiciones:\n",
        "\n",
        "- Al menos 1 letra entre [a-z] y 1 letra entre [A-Z].\n",
        "\n",
        "- Al menos 1 número entre [0-9].\n",
        "\n",
        "- Al menos 1 carácter de [$ # @].\n",
        "\n",
        "- Longitud mínima 6 caracteres.\n",
        "\n",
        "- Longitud máxima de 16 caracteres."
      ]
    },
    {
      "cell_type": "code",
      "metadata": {
        "id": "6nTLlJurnrTl"
      },
      "source": [
        ""
      ],
      "execution_count": null,
      "outputs": []
    },
    {
      "cell_type": "markdown",
      "metadata": {
        "id": "8jGnbPNfnr3N"
      },
      "source": [
        "8. Escribe un programa para contar el número de ocurrencias de cada carácter en una cadena.\n",
        "\n",
        "Ejemplo: \"Mariana\"\n",
        "\n",
        "\"M\":1\n",
        "\n",
        "\"a\":3\n",
        "\n",
        "\"r:1\n",
        "\n",
        "\"i\":1\n",
        "\n",
        "\"n\":1\n"
      ]
    },
    {
      "cell_type": "code",
      "metadata": {
        "id": "0NTRBVcFoSRn"
      },
      "source": [
        ""
      ],
      "execution_count": null,
      "outputs": []
    },
    {
      "cell_type": "markdown",
      "metadata": {
        "id": "Az8yeaFkoSxT"
      },
      "source": [
        "9. Haz un función para que tome como parámetro un número n y una cadena no vacía, que devuelva una cadena con el n-ésimo carácter eliminado.\n"
      ]
    },
    {
      "cell_type": "code",
      "metadata": {
        "id": "M--OFuAzikqw"
      },
      "source": [
        ""
      ],
      "execution_count": null,
      "outputs": []
    }
  ]
}