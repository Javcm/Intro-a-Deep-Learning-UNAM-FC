{
  "nbformat": 4,
  "nbformat_minor": 0,
  "metadata": {
    "colab": {
      "name": "Sesion1.ipynb",
      "provenance": [],
      "collapsed_sections": [],
      "include_colab_link": true
    },
    "kernelspec": {
      "name": "python3",
      "display_name": "Python 3"
    }
  },
  "cells": [
    {
      "cell_type": "markdown",
      "metadata": {
        "id": "view-in-github",
        "colab_type": "text"
      },
      "source": [
        "<a href=\"https://colab.research.google.com/github/Javcm/Intro-a-Deep-Learning-UNAM-FC/blob/main/Repaso_Python.ipynb\" target=\"_parent\"><img src=\"https://colab.research.google.com/assets/colab-badge.svg\" alt=\"Open In Colab\"/></a>"
      ]
    },
    {
      "cell_type": "markdown",
      "metadata": {
        "id": "2p_zx4Cd9fXu"
      },
      "source": [
        "# Programando en Python"
      ]
    },
    {
      "cell_type": "code",
      "metadata": {
        "id": "0pQinQDc87SV"
      },
      "source": [
        "#Tipo entero\n",
        "a = 4\n",
        "#Tipo cadena\n",
        "b = \"Hola\"\n",
        "#Tipo flotante \n",
        "c = 0.5  \n",
        "#Tipo booleano\n",
        "d = True \n"
      ],
      "execution_count": null,
      "outputs": []
    },
    {
      "cell_type": "code",
      "metadata": {
        "colab": {
          "base_uri": "https://localhost:8080/"
        },
        "id": "1pB2Xd1dVWDF",
        "outputId": "4e7d8730-5b1e-4638-de6e-424d42d0983f"
      },
      "source": [
        "#Función print: Imprime el objeto entre paréntesis (puede ser más de un objeto)\n",
        "print(a,b,c,d)\n",
        "\n",
        "#Función type: Nos dice el tipo de objeto \n",
        "print(type(a),type(b),type(c),type(d))\n",
        "print(type(\"5\"),type(5))"
      ],
      "execution_count": null,
      "outputs": [
        {
          "output_type": "stream",
          "text": [
            "4 Hola 0.5 True\n",
            "<class 'int'> <class 'str'> <class 'float'> <class 'bool'>\n"
          ],
          "name": "stdout"
        }
      ]
    },
    {
      "cell_type": "code",
      "metadata": {
        "id": "2Nq1yA3b9enB",
        "colab": {
          "base_uri": "https://localhost:8080/"
        },
        "outputId": "05010c73-ad63-41e5-a301-cfbbc98d372c"
      },
      "source": [
        "#Operaciones entre elementos\n",
        "\n",
        "print(type(a*c),a*c)\n",
        "\n",
        "print(type(c*c),c*c)\n",
        "\n",
        "print(type(a*b),a*b)\n",
        "\n",
        "print(type(b*d),b*d)\n",
        "\n",
        "print(type(b*False),b*False)\n",
        "\n",
        "print(type(a*d),a*d)\n",
        "\n",
        "print(type(a*False),a*False)\n",
        "\n",
        "print(type(c*d),c*d)\n",
        "\n",
        "print(type(c*False),c*False)\n",
        "\n",
        "print(type(d*d),d*d)\n",
        "\n",
        "print(type(False*False),False*False)\n",
        "\n",
        "#Hacer True*False"
      ],
      "execution_count": null,
      "outputs": [
        {
          "output_type": "stream",
          "text": [
            "<class 'float'> 2.0\n",
            "<class 'float'> 0.25\n",
            "<class 'str'> HolaHolaHolaHola\n",
            "<class 'str'> Hola\n",
            "<class 'str'> \n",
            "<class 'int'> 4\n",
            "<class 'int'> 0\n",
            "<class 'float'> 0.5\n",
            "<class 'float'> 0.0\n",
            "<class 'int'> 1\n",
            "<class 'int'> 0\n"
          ],
          "name": "stdout"
        }
      ]
    },
    {
      "cell_type": "code",
      "metadata": {
        "id": "PL6Q_WA7rK3A",
        "colab": {
          "base_uri": "https://localhost:8080/"
        },
        "outputId": "5ca0bc2b-bee7-4baa-e3f8-30678dab0aa5"
      },
      "source": [
        "#Operaciones entre elementos\n",
        "print(type(a+c),a+c)\n",
        "\n",
        "print(type(c+c),c+c)\n",
        "\n",
        "#print(type(a+b),a+b)\n",
        "\n",
        "#print(type(b+d),b+d)\n",
        "\n",
        "print(type(a+d),a+d)\n",
        "\n",
        "print(type(c+d),c+d)\n",
        "\n",
        "print(type(d+d),d+d)"
      ],
      "execution_count": null,
      "outputs": [
        {
          "output_type": "stream",
          "text": [
            "<class 'float'> 4.5\n",
            "<class 'float'> 1.0\n",
            "<class 'int'> 5\n",
            "<class 'float'> 1.5\n",
            "<class 'int'> 2\n"
          ],
          "name": "stdout"
        }
      ]
    },
    {
      "cell_type": "code",
      "metadata": {
        "colab": {
          "base_uri": "https://localhost:8080/"
        },
        "id": "_9-UIdC-aPgy",
        "outputId": "e7100bee-6984-43d3-cf0e-2f37e78a6dcf"
      },
      "source": [
        "#Función input: Imprime una cadena y lee un objeto dado por el usuario\n",
        "a = input(\"Escribe algo: \")\n",
        "print(a)"
      ],
      "execution_count": null,
      "outputs": [
        {
          "output_type": "stream",
          "text": [
            "Escribe algo: \"Hola\"\n",
            "\"Hola\"\n"
          ],
          "name": "stdout"
        }
      ]
    },
    {
      "cell_type": "code",
      "metadata": {
        "id": "zhOIp6L8Xy3U",
        "colab": {
          "base_uri": "https://localhost:8080/"
        },
        "outputId": "61cc74c8-1115-43d4-9168-86b863e3aff8"
      },
      "source": [
        "#Sumadora\n",
        "\n",
        "num1 = input(\"Ingresa un número: \")\n",
        "num2 = input(\"Ingresa otro número: \")\n",
        "result = int(num1) + int(num2)\n",
        "\n",
        "print(\"Suma:\",result)"
      ],
      "execution_count": null,
      "outputs": [
        {
          "output_type": "stream",
          "text": [
            "Ingresa un número: 5\n",
            "Ingresa otro número: 9\n",
            "Suma: 14\n"
          ],
          "name": "stdout"
        }
      ]
    },
    {
      "cell_type": "code",
      "metadata": {
        "id": "LG4nDYg1tmZb",
        "colab": {
          "base_uri": "https://localhost:8080/"
        },
        "outputId": "9732a0fb-b67f-435d-dfeb-9cc5c1209c41"
      },
      "source": [
        "#Otras operaciones (condicionales)\n",
        "\n",
        "print(a>c,a<c)\n",
        "\n",
        "print(a==c,a==4)\n",
        "\n",
        "#print(c>2*c,c<2*c)\n",
        "\n",
        "#print(c==2*c,c==c)\n",
        "\n",
        "#print(True<False,True>False)\n",
        "\n",
        "#Modulo\n",
        "#print(a%3)\n",
        "\n",
        "#print(c*15%3)"
      ],
      "execution_count": null,
      "outputs": [
        {
          "output_type": "stream",
          "text": [
            "True False\n",
            "False True\n"
          ],
          "name": "stdout"
        }
      ]
    },
    {
      "cell_type": "markdown",
      "metadata": {
        "id": "ujhRYXQar-ac"
      },
      "source": [
        "## Ejercicio \n",
        "\n",
        "Hacer una calculadora que pida dos números al usuario y devuelva la suma, la resta, la multiplicación, división y módulo."
      ]
    },
    {
      "cell_type": "code",
      "metadata": {
        "id": "BZlP9BE6ca2p"
      },
      "source": [
        ""
      ],
      "execution_count": null,
      "outputs": []
    },
    {
      "cell_type": "markdown",
      "metadata": {
        "id": "1RUoJ3VIeL-S"
      },
      "source": [
        "# Listas"
      ]
    },
    {
      "cell_type": "code",
      "metadata": {
        "id": "9tlz9m7w9ewP",
        "colab": {
          "base_uri": "https://localhost:8080/",
          "height": 87
        },
        "outputId": "fbbbe325-a9be-48a9-c6f8-617d7b12dc30"
      },
      "source": [
        "lista = [a,b,c]\n",
        "print(lista)\n",
        "#En python los indices inician en 0 y se usa corchetes para acceder a estos\n",
        "print(lista[0])\n",
        "print(lista[-1],lista[-2],lista[-3])\n",
        "\n",
        "#Para medir una lista\n",
        "len(lista)"
      ],
      "execution_count": null,
      "outputs": [
        {
          "output_type": "stream",
          "text": [
            "[4, 'Hola', 0.5]\n",
            "4\n",
            "0.5 Hola 4\n"
          ],
          "name": "stdout"
        },
        {
          "output_type": "execute_result",
          "data": {
            "text/plain": [
              "3"
            ]
          },
          "metadata": {
            "tags": []
          },
          "execution_count": 55
        }
      ]
    },
    {
      "cell_type": "code",
      "metadata": {
        "id": "OxVjup1U-8Ho",
        "colab": {
          "base_uri": "https://localhost:8080/",
          "height": 34
        },
        "outputId": "5dcc9f30-5ebd-4e56-b92a-2070e4eddfb2"
      },
      "source": [
        "lista1=[3,4,\"prueba\",6]\n",
        "lista2=[3,3,\"prueba2\",6]\n",
        "meta_lista = [lista1,lista2]\n",
        "print(meta_lista,len(meta_lista))"
      ],
      "execution_count": null,
      "outputs": [
        {
          "output_type": "stream",
          "text": [
            "[[3, 4, 'prueba', 6], [3, 3, 'prueba2', 6]] 2\n"
          ],
          "name": "stdout"
        }
      ]
    },
    {
      "cell_type": "code",
      "metadata": {
        "id": "W5gBkp0FwleI",
        "colab": {
          "base_uri": "https://localhost:8080/",
          "height": 34
        },
        "outputId": "10db16ca-a2d2-45ab-95d6-9d4125733cc2"
      },
      "source": [
        "meta_lista[0][1]"
      ],
      "execution_count": null,
      "outputs": [
        {
          "output_type": "execute_result",
          "data": {
            "text/plain": [
              "4"
            ]
          },
          "metadata": {
            "tags": []
          },
          "execution_count": 58
        }
      ]
    },
    {
      "cell_type": "code",
      "metadata": {
        "id": "IBWwrfa9AQgZ",
        "colab": {
          "base_uri": "https://localhost:8080/",
          "height": 52
        },
        "outputId": "7796757f-b3df-4f58-a1c6-482316344ad5"
      },
      "source": [
        "meta_meta_lista=[meta_lista,lista1,lista2]\n",
        "print(meta_meta_lista,len(meta_meta_lista))\n",
        "\n",
        "print(meta_meta_lista[0][0][2])"
      ],
      "execution_count": null,
      "outputs": [
        {
          "output_type": "stream",
          "text": [
            "[[[3, 4, 'prueba', 6], [3, 3, 'prueba2', 6]], [3, 4, 'prueba', 6], [3, 3, 'prueba2', 6]] 3\n",
            "prueba\n"
          ],
          "name": "stdout"
        }
      ]
    },
    {
      "cell_type": "code",
      "metadata": {
        "id": "I0slc4D_x5kO",
        "colab": {
          "base_uri": "https://localhost:8080/",
          "height": 34
        },
        "outputId": "3cd20a44-706d-48f3-952c-f2bac2bd01ff"
      },
      "source": [
        "#Operaciones con listas\n",
        "\n",
        "lista1*3\n",
        "\n",
        "lista1+lista2\n",
        "\n",
        "#lista1*lista2\n",
        "\n",
        "type(lista)"
      ],
      "execution_count": null,
      "outputs": [
        {
          "output_type": "execute_result",
          "data": {
            "text/plain": [
              "list"
            ]
          },
          "metadata": {
            "tags": []
          },
          "execution_count": 65
        }
      ]
    },
    {
      "cell_type": "code",
      "metadata": {
        "id": "C1E38_K7yxYp",
        "colab": {
          "base_uri": "https://localhost:8080/",
          "height": 34
        },
        "outputId": "ee93c88f-2cc8-4e1e-9e99-12e03959b8d9"
      },
      "source": [
        "# Diccionarios\n",
        "\n",
        "dic = {\"d1\":3,\"d2\":4,\"d3\":\"Hey\"}\n",
        "\n",
        "dic2 = {4:\"JEJE\",2:4}\n",
        "\n",
        "dic3 = {4:lista1,3:meta_lista}\n",
        "\n",
        "dic3[4][2]\n",
        "\n",
        "type(dic3)"
      ],
      "execution_count": null,
      "outputs": [
        {
          "output_type": "execute_result",
          "data": {
            "text/plain": [
              "dict"
            ]
          },
          "metadata": {
            "tags": []
          },
          "execution_count": 83
        }
      ]
    },
    {
      "cell_type": "code",
      "metadata": {
        "id": "wpFnyKtFyxf8",
        "colab": {
          "base_uri": "https://localhost:8080/",
          "height": 52
        },
        "outputId": "b80424ab-cd52-4570-deb8-affcee35badb"
      },
      "source": [
        "#Tuplas\n",
        "\n",
        "a,b,c = 3,2,4\n",
        "print(a,b,c)\n",
        "\n",
        "type((a,b,c))"
      ],
      "execution_count": null,
      "outputs": [
        {
          "output_type": "stream",
          "text": [
            "3 2 4\n"
          ],
          "name": "stdout"
        },
        {
          "output_type": "execute_result",
          "data": {
            "text/plain": [
              "tuple"
            ]
          },
          "metadata": {
            "tags": []
          },
          "execution_count": 84
        }
      ]
    },
    {
      "cell_type": "code",
      "metadata": {
        "id": "jzX_LehJh45T",
        "colab": {
          "base_uri": "https://localhost:8080/"
        },
        "outputId": "09f6acc3-cbe6-4f2f-8746-a8f7ea95a0bf"
      },
      "source": [
        "#Conjuntos\n",
        "\n",
        "A = set([2,2,3,3,3,4,\"Hola\"])\n",
        "\n",
        "A\n",
        "\n",
        "B = set([3,4,\"Hola\",5])\n",
        "\n",
        "#Intersección\n",
        "B&A\n",
        "\n",
        "#Diferencia\n",
        "B-A\n",
        "\n",
        "#Unión \n",
        "A.union(B)\n",
        "A|B\n"
      ],
      "execution_count": null,
      "outputs": [
        {
          "output_type": "execute_result",
          "data": {
            "text/plain": [
              "{2, 3, 4, 5, 'Hola'}"
            ]
          },
          "metadata": {
            "tags": []
          },
          "execution_count": 4
        }
      ]
    },
    {
      "cell_type": "markdown",
      "metadata": {
        "id": "Zq8POxKPBlBZ"
      },
      "source": [
        "# Estructuras de control"
      ]
    },
    {
      "cell_type": "markdown",
      "metadata": {
        "id": "3qiaI0TTEZ8w"
      },
      "source": [
        "## ciclos for"
      ]
    },
    {
      "cell_type": "code",
      "metadata": {
        "id": "BNCB9dR_A5hp",
        "colab": {
          "base_uri": "https://localhost:8080/",
          "height": 88
        },
        "outputId": "c2cc98c1-eb48-4866-b423-20e95c15c24f"
      },
      "source": [
        "print(lista1[0])\n",
        "print(lista1[1])\n",
        "print(lista1[2])\n",
        "print(lista1[3])"
      ],
      "execution_count": null,
      "outputs": [
        {
          "output_type": "stream",
          "text": [
            "3\n",
            "4\n",
            "prueba\n",
            "6\n"
          ],
          "name": "stdout"
        }
      ]
    },
    {
      "cell_type": "code",
      "metadata": {
        "id": "_h6xGYeMD1I7",
        "colab": {
          "base_uri": "https://localhost:8080/",
          "height": 35
        },
        "outputId": "2faa27c9-3606-4794-974c-171a96ed214f"
      },
      "source": [
        "lista1"
      ],
      "execution_count": null,
      "outputs": [
        {
          "output_type": "execute_result",
          "data": {
            "text/plain": [
              "[3, 4, 'prueba', 6]"
            ]
          },
          "metadata": {
            "tags": []
          },
          "execution_count": 7
        }
      ]
    },
    {
      "cell_type": "code",
      "metadata": {
        "id": "NHXUs3KHB0G4",
        "colab": {
          "base_uri": "https://localhost:8080/",
          "height": 88
        },
        "outputId": "68df9bad-cae3-48ad-dceb-0689983fa31a"
      },
      "source": [
        "for i in range(4):\n",
        "  #print(i)\n",
        "  print(lista1[i])"
      ],
      "execution_count": null,
      "outputs": [
        {
          "output_type": "stream",
          "text": [
            "3\n",
            "4\n",
            "prueba\n",
            "6\n"
          ],
          "name": "stdout"
        }
      ]
    },
    {
      "cell_type": "code",
      "metadata": {
        "id": "jeq3mBarCTBj",
        "colab": {
          "base_uri": "https://localhost:8080/",
          "height": 88
        },
        "outputId": "0519fdbd-5319-45ce-f996-b1f82638b53a"
      },
      "source": [
        "for i in lista1:\n",
        "  print(i)"
      ],
      "execution_count": null,
      "outputs": [
        {
          "output_type": "stream",
          "text": [
            "3\n",
            "4\n",
            "prueba\n",
            "6\n"
          ],
          "name": "stdout"
        }
      ]
    },
    {
      "cell_type": "code",
      "metadata": {
        "id": "qmYxQH71DsWy",
        "colab": {
          "base_uri": "https://localhost:8080/",
          "height": 70
        },
        "outputId": "3e52124b-f655-4229-e7bf-3c1e9fe3868d"
      },
      "source": [
        "lista_extraña"
      ],
      "execution_count": null,
      "outputs": [
        {
          "output_type": "execute_result",
          "data": {
            "text/plain": [
              "[[[3, 4, 'prueba', 6], [3, 3, 'prueba2', 6]],\n",
              " [3, 4, 'prueba', 6],\n",
              " [3, 3, 'prueba2', 6]]"
            ]
          },
          "metadata": {
            "tags": []
          },
          "execution_count": 10
        }
      ]
    },
    {
      "cell_type": "markdown",
      "metadata": {
        "id": "tTsW0i5CFqQu"
      },
      "source": [
        "Python es un lenguaje identado (que importa la tabulación)"
      ]
    },
    {
      "cell_type": "code",
      "metadata": {
        "id": "UoyV5ogiDlDt",
        "colab": {
          "base_uri": "https://localhost:8080/",
          "height": 141
        },
        "outputId": "d757e19a-719e-49b3-85c1-824fa4854fa0"
      },
      "source": [
        "for i in lista_extraña:\n",
        "  print(i)\n",
        "  print(\"s\")\n",
        "\n",
        "print(\"Hola\")"
      ],
      "execution_count": null,
      "outputs": [
        {
          "output_type": "stream",
          "text": [
            "[[3, 4, 'prueba', 6], [3, 3, 'prueba2', 6]]\n",
            "s\n",
            "[3, 4, 'prueba', 6]\n",
            "s\n",
            "[3, 3, 'prueba2', 6]\n",
            "s\n",
            "Hola\n"
          ],
          "name": "stdout"
        }
      ]
    },
    {
      "cell_type": "code",
      "metadata": {
        "id": "P4doQli0Ihia",
        "colab": {
          "base_uri": "https://localhost:8080/",
          "height": 106
        },
        "outputId": "383469b1-0148-4dbd-e860-61e5943dc9e2"
      },
      "source": [
        "print(len(lista_extraña))\n",
        "print(len(lista_extraña[0]))\n",
        "print(len(lista_extraña[1]))\n",
        "print(len(lista_extraña[2]))\n",
        "(2+4+4)"
      ],
      "execution_count": null,
      "outputs": [
        {
          "output_type": "stream",
          "text": [
            "3\n",
            "2\n",
            "4\n",
            "4\n"
          ],
          "name": "stdout"
        },
        {
          "output_type": "execute_result",
          "data": {
            "text/plain": [
              "10"
            ]
          },
          "metadata": {
            "tags": []
          },
          "execution_count": 74
        }
      ]
    },
    {
      "cell_type": "code",
      "metadata": {
        "id": "8o47SGnRFoTG",
        "colab": {
          "base_uri": "https://localhost:8080/",
          "height": 426
        },
        "outputId": "fb7b0a95-1c85-46bb-c426-3dc2ad0ffa84"
      },
      "source": [
        "#For anidado \n",
        "for i in lista_extraña:\n",
        "  for j in i:\n",
        "    print(j)\n",
        "    print(\"Hola\")\n",
        "    \n",
        "  print(\"Adios\")\n",
        "  \n"
      ],
      "execution_count": null,
      "outputs": [
        {
          "output_type": "stream",
          "text": [
            "[3, 4, 'prueba', 6]\n",
            "Hola\n",
            "[3, 3, 'prueba2', 6]\n",
            "Hola\n",
            "Adios\n",
            "3\n",
            "Hola\n",
            "4\n",
            "Hola\n",
            "prueba\n",
            "Hola\n",
            "6\n",
            "Hola\n",
            "Adios\n",
            "3\n",
            "Hola\n",
            "3\n",
            "Hola\n",
            "prueba2\n",
            "Hola\n",
            "6\n",
            "Hola\n",
            "Adios\n"
          ],
          "name": "stdout"
        }
      ]
    },
    {
      "cell_type": "code",
      "metadata": {
        "id": "85EXKZZPJxfQ",
        "colab": {
          "base_uri": "https://localhost:8080/",
          "height": 337
        },
        "outputId": "01c7005c-9ecb-49fe-83d8-e93b4bc1f878"
      },
      "source": [
        "lista_prueba = [lista1,lista2]\n",
        "\n",
        "#For anidado \n",
        "for i in lista_prueba:\n",
        "  for j in i:\n",
        "    print(j)\n",
        "    print(\"Hola\")\n",
        "    \n",
        "  print(\"Adios\")\n",
        "  \n"
      ],
      "execution_count": null,
      "outputs": [
        {
          "output_type": "stream",
          "text": [
            "3\n",
            "Hola\n",
            "4\n",
            "Hola\n",
            "prueba\n",
            "Hola\n",
            "6\n",
            "Hola\n",
            "Adios\n",
            "3\n",
            "Hola\n",
            "3\n",
            "Hola\n",
            "prueba2\n",
            "Hola\n",
            "6\n",
            "Hola\n",
            "Adios\n"
          ],
          "name": "stdout"
        }
      ]
    },
    {
      "cell_type": "markdown",
      "metadata": {
        "id": "Ni6oLXUUNc36"
      },
      "source": [
        "## Booleanos, if, else "
      ]
    },
    {
      "cell_type": "code",
      "metadata": {
        "id": "6rVSPEY-LDld",
        "colab": {
          "base_uri": "https://localhost:8080/",
          "height": 35
        },
        "outputId": "ab7a32d7-175a-404c-e395-e6cf201c2a7e"
      },
      "source": [
        "T = True\n",
        "F = False\n",
        "pregunta = F\n",
        "\n",
        "if pregunta == True:\n",
        "  print(\"Verdadero\")\n",
        "else:\n",
        "  print(\"Falso\")"
      ],
      "execution_count": null,
      "outputs": [
        {
          "output_type": "stream",
          "text": [
            "Falso\n"
          ],
          "name": "stdout"
        }
      ]
    },
    {
      "cell_type": "code",
      "metadata": {
        "id": "Q083vjt4MDjh",
        "colab": {
          "base_uri": "https://localhost:8080/",
          "height": 35
        },
        "outputId": "591426d6-f454-467e-b1d5-79c6405c7ad9"
      },
      "source": [
        "a=6\n",
        "if a == 5:\n",
        "  print(\"Verdadero\")\n",
        "else:\n",
        "  print(\"Falso\")"
      ],
      "execution_count": null,
      "outputs": [
        {
          "output_type": "stream",
          "text": [
            "Falso\n"
          ],
          "name": "stdout"
        }
      ]
    },
    {
      "cell_type": "code",
      "metadata": {
        "id": "GCYM7SKQM4AL",
        "colab": {
          "base_uri": "https://localhost:8080/",
          "height": 35
        },
        "outputId": "83dace11-2be5-47f2-f881-7acee085ed1b"
      },
      "source": [
        "# En python dos iguales significa preguntar si son iguales\n",
        "\n",
        "a == 5"
      ],
      "execution_count": null,
      "outputs": [
        {
          "output_type": "execute_result",
          "data": {
            "text/plain": [
              "False"
            ]
          },
          "metadata": {
            "tags": []
          },
          "execution_count": 87
        }
      ]
    },
    {
      "cell_type": "code",
      "metadata": {
        "id": "gjzjPHfzMOJg",
        "colab": {
          "base_uri": "https://localhost:8080/",
          "height": 35
        },
        "outputId": "e14daa0a-9146-4d8c-91ca-dbb568428352"
      },
      "source": [
        "booleano = a == 5\n",
        "booleano"
      ],
      "execution_count": null,
      "outputs": [
        {
          "output_type": "execute_result",
          "data": {
            "text/plain": [
              "False"
            ]
          },
          "metadata": {
            "tags": []
          },
          "execution_count": 86
        }
      ]
    },
    {
      "cell_type": "code",
      "metadata": {
        "id": "ATJBMIlKM27p",
        "colab": {
          "base_uri": "https://localhost:8080/",
          "height": 70
        },
        "outputId": "02715a06-5783-40ee-b324-a1a57842763a"
      },
      "source": [
        "#También se puede con desigualdades\n",
        "\n",
        "print(a < 6)\n",
        "print(a <= 6)\n",
        "print(a > 4)\n"
      ],
      "execution_count": null,
      "outputs": [
        {
          "output_type": "stream",
          "text": [
            "False\n",
            "True\n",
            "True\n"
          ],
          "name": "stdout"
        }
      ]
    },
    {
      "cell_type": "markdown",
      "metadata": {
        "id": "Q79Rj2KsEc0v"
      },
      "source": [
        "## ciclos while\n",
        "\n",
        "Son útiles para cuando quieres evaluar condiciones o conjuntos que no están definidos a priori"
      ]
    },
    {
      "cell_type": "code",
      "metadata": {
        "id": "rmp5LIiwDtoq",
        "colab": {
          "base_uri": "https://localhost:8080/",
          "height": 88
        },
        "outputId": "8fdf39f2-4aec-40d6-b0e1-67ac47e85894"
      },
      "source": [
        "i=0\n",
        "while i < len(lista1):\n",
        "  print(lista1[i])\n",
        "  i=i+1"
      ],
      "execution_count": null,
      "outputs": [
        {
          "output_type": "stream",
          "text": [
            "3\n",
            "4\n",
            "prueba\n",
            "6\n"
          ],
          "name": "stdout"
        }
      ]
    },
    {
      "cell_type": "code",
      "metadata": {
        "id": "OqUD3K7CNvP7",
        "colab": {
          "base_uri": "https://localhost:8080/",
          "height": 337
        },
        "outputId": "192cfc13-2b02-4cb8-d966-79cc9c86ef69"
      },
      "source": [
        "#For anidado \n",
        "i=0\n",
        "while i < len(lista_prueba):\n",
        "  elemento = lista_prueba[i]\n",
        "  i=i+1\n",
        "  for j in elemento:\n",
        "    print(j)\n",
        "    print(\"Hola\")\n",
        "    \n",
        "  print(\"Adios\")"
      ],
      "execution_count": null,
      "outputs": [
        {
          "output_type": "stream",
          "text": [
            "3\n",
            "Hola\n",
            "4\n",
            "Hola\n",
            "prueba\n",
            "Hola\n",
            "6\n",
            "Hola\n",
            "Adios\n",
            "3\n",
            "Hola\n",
            "3\n",
            "Hola\n",
            "prueba2\n",
            "Hola\n",
            "6\n",
            "Hola\n",
            "Adios\n"
          ],
          "name": "stdout"
        }
      ]
    },
    {
      "cell_type": "markdown",
      "metadata": {
        "id": "0SzwgRZ8Pqpc"
      },
      "source": [
        "## Ejercicio \n",
        "\n",
        "- Crear una lista que contenga 4 elementos de los distintos tipos de variables que vimos\n",
        "\n",
        "- Hacer una lista de listas que contenga 3 listas con 5 elementos cada una (todos numéricos)\n",
        "\n",
        "- Usando for o while hacer que se sumen todos los valores de esta lista\n",
        "\n"
      ]
    },
    {
      "cell_type": "markdown",
      "metadata": {
        "id": "gZOU4gWi1muu"
      },
      "source": [
        "# Funciones"
      ]
    },
    {
      "cell_type": "code",
      "metadata": {
        "id": "9XJziNmHQrd6"
      },
      "source": [
        "def calculadora(num1,num2,operacion):\n",
        "  if operacion == \"suma\":\n",
        "    result = num1 + num2    \n",
        "  elif operacion == \"resta\":\n",
        "    result = num1 - num2\n",
        "  elif operacion == \"producto\":\n",
        "    result = num1*num2\n",
        "  elif operacion == \"cociente\":\n",
        "    result = num1/num2\n",
        "  else:\n",
        "    result = \"Operación desconocida, operaciones válidas: suma, resta, producto, cociente\"\n",
        "  return result\n",
        "\n"
      ],
      "execution_count": null,
      "outputs": []
    },
    {
      "cell_type": "code",
      "metadata": {
        "id": "FGvL4jCOQrgu",
        "colab": {
          "base_uri": "https://localhost:8080/"
        },
        "outputId": "09b966dd-e584-4ca7-e713-7eb9eb134f3f"
      },
      "source": [
        "calculadora(4,5,\"suma\")"
      ],
      "execution_count": null,
      "outputs": [
        {
          "output_type": "execute_result",
          "data": {
            "text/plain": [
              "9"
            ]
          },
          "metadata": {
            "tags": []
          },
          "execution_count": 6
        }
      ]
    },
    {
      "cell_type": "code",
      "metadata": {
        "id": "z7AAWp3kQrjs",
        "colab": {
          "base_uri": "https://localhost:8080/"
        },
        "outputId": "b6eb2b8b-09ce-4c2c-cacb-5d3af12c7120"
      },
      "source": [
        "def calculadora():\n",
        "  num1 = float(input(\"Ingresa un número: \"))\n",
        "  num2 = float(input(\"Ingresa otro número: \"))\n",
        "  operacion = int(input(\"Ingrese el número de la operación que desea realizar: 1:suma, 2:resta, 3:producto, 4:cociente \"))\n",
        "\n",
        "  if operacion == 1:\n",
        "    result = num1 + num2    \n",
        "  elif operacion == 2:\n",
        "    result = num1 - num2\n",
        "  elif operacion == 3:\n",
        "    result = num1*num2\n",
        "  elif operacion == 4:\n",
        "    result = num1/num2\n",
        "  else:\n",
        "    result = \"Operación desconocida, operaciones válidas: suma, resta, producto, cociente\"\n",
        "\n",
        "  return float(result)\n",
        "\n",
        "calculadora()"
      ],
      "execution_count": null,
      "outputs": [
        {
          "output_type": "stream",
          "text": [
            "Ingresa un número: 5\n",
            "Ingresa otro número: 9\n",
            "Ingrese el número de la operación que desea realizar: 1:suma, 2:resta, 3:producto, 4:cociente 4\n"
          ],
          "name": "stdout"
        },
        {
          "output_type": "execute_result",
          "data": {
            "text/plain": [
              "0.5555555555555556"
            ]
          },
          "metadata": {
            "tags": []
          },
          "execution_count": 18
        }
      ]
    },
    {
      "cell_type": "code",
      "metadata": {
        "id": "S9_6J8RnRVVs"
      },
      "source": [
        ""
      ],
      "execution_count": null,
      "outputs": []
    },
    {
      "cell_type": "code",
      "metadata": {
        "id": "IZYV57dtRVY4"
      },
      "source": [
        ""
      ],
      "execution_count": null,
      "outputs": []
    },
    {
      "cell_type": "code",
      "metadata": {
        "id": "Tr-AeNBXRVcN"
      },
      "source": [
        ""
      ],
      "execution_count": null,
      "outputs": []
    },
    {
      "cell_type": "code",
      "metadata": {
        "id": "ZJSkKGJyRVhq"
      },
      "source": [
        ""
      ],
      "execution_count": null,
      "outputs": []
    }
  ]
}