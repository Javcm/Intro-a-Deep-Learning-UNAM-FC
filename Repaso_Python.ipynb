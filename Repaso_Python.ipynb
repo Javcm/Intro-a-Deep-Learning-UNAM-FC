{
  "nbformat": 4,
  "nbformat_minor": 0,
  "metadata": {
    "colab": {
      "name": "Sesion1.ipynb",
      "provenance": [],
      "include_colab_link": true
    },
    "kernelspec": {
      "name": "python3",
      "display_name": "Python 3"
    }
  },
  "cells": [
    {
      "cell_type": "markdown",
      "metadata": {
        "id": "view-in-github",
        "colab_type": "text"
      },
      "source": [
        "<a href=\"https://colab.research.google.com/github/Javcm/Intro-a-Deep-Learning-UNAM-FC/blob/main/Repaso_Python.ipynb\" target=\"_parent\"><img src=\"https://colab.research.google.com/assets/colab-badge.svg\" alt=\"Open In Colab\"/></a>"
      ]
    },
    {
      "cell_type": "markdown",
      "metadata": {
        "id": "2p_zx4Cd9fXu"
      },
      "source": [
        "# Programando en Python"
      ]
    },
    {
      "cell_type": "code",
      "metadata": {
        "id": "0pQinQDc87SV"
      },
      "source": [
        "#Tipo entero\n",
        "a = 4\n",
        "#Tipo cadena\n",
        "b = \"Hola\"\n",
        "#Tipo flotante\n",
        "c = 0.5\n",
        "#Tipo booleano\n",
        "d = True\n"
      ],
      "execution_count": 2,
      "outputs": []
    },
    {
      "cell_type": "code",
      "metadata": {
        "colab": {
          "base_uri": "https://localhost:8080/"
        },
        "id": "1pB2Xd1dVWDF",
        "outputId": "1d28a4e0-0bea-4f6d-9676-8299308deff7"
      },
      "source": [
        "#Función print: Imprime el objeto entre paréntesis (puede ser más de un objeto)\n",
        "print(a,b,c,d)\n",
        "\n",
        "#Función type: Nos dice el tipo de objeto\n",
        "print(type(a),type(b),type(c),type(d))\n",
        "print(type(\"5\"),type(5))"
      ],
      "execution_count": 3,
      "outputs": [
        {
          "output_type": "stream",
          "name": "stdout",
          "text": [
            "4 Hola 0.5 True\n",
            "<class 'int'> <class 'str'> <class 'float'> <class 'bool'>\n",
            "<class 'str'> <class 'int'>\n"
          ]
        }
      ]
    },
    {
      "cell_type": "code",
      "metadata": {
        "id": "2Nq1yA3b9enB",
        "colab": {
          "base_uri": "https://localhost:8080/"
        },
        "outputId": "b0b22e4a-fec8-467f-cd19-e7c4a89d80f1"
      },
      "source": [
        "#Operaciones entre elementos\n",
        "\n",
        "print(type(a*c),a*c)\n",
        "\n",
        "print(type(c*c),c*c)\n",
        "\n",
        "print(type(a*b),a*b)\n",
        "\n",
        "print(type(b*d),b*d)\n",
        "\n",
        "print(type(b*False),b*False)\n",
        "\n",
        "print(b*0)\n",
        "\n",
        "print(type(a*d),a*d)\n",
        "\n",
        "print(type(a*False),a*False)\n",
        "\n",
        "print(type(c*d),c*d)\n",
        "\n",
        "print(type(c*False),c*False)\n",
        "\n",
        "print(type(d*d),d*d)\n",
        "\n",
        "print(type(False*False),False*False)\n",
        "\n",
        "#Hacer True*False\n",
        "\n",
        "True*False\n",
        "\n",
        "#b*c"
      ],
      "execution_count": 17,
      "outputs": [
        {
          "output_type": "stream",
          "name": "stdout",
          "text": [
            "<class 'float'> 2.0\n",
            "<class 'float'> 0.25\n",
            "<class 'str'> HolaHolaHolaHola\n",
            "<class 'str'> Hola\n",
            "<class 'str'> \n",
            "\n",
            "<class 'int'> 4\n",
            "<class 'int'> 0\n",
            "<class 'float'> 0.5\n",
            "<class 'float'> 0.0\n",
            "<class 'int'> 1\n",
            "<class 'int'> 0\n"
          ]
        },
        {
          "output_type": "execute_result",
          "data": {
            "text/plain": [
              "0"
            ]
          },
          "metadata": {},
          "execution_count": 17
        }
      ]
    },
    {
      "cell_type": "code",
      "metadata": {
        "id": "PL6Q_WA7rK3A",
        "colab": {
          "base_uri": "https://localhost:8080/"
        },
        "outputId": "1bc045fc-ee5e-4d26-c01d-15f0ac350e98"
      },
      "source": [
        "#Operaciones entre elementos\n",
        "print(type(a+c),a+c)\n",
        "\n",
        "print(type(c+c),c+c)\n",
        "\n",
        "#print(type(a+b),a+b)\n",
        "\n",
        "print(type(b+b),b+b)\n",
        "\n",
        "#print(type(b+d),b+d)\n",
        "\n",
        "print(type(a+d),a+d)\n",
        "\n",
        "print(type(c+d),c+d)\n",
        "\n",
        "print(type(c+False),c+False)\n",
        "\n",
        "print(type(d+d),d+d)"
      ],
      "execution_count": 27,
      "outputs": [
        {
          "output_type": "stream",
          "name": "stdout",
          "text": [
            "<class 'float'> 4.5\n",
            "<class 'float'> 1.0\n",
            "<class 'str'> HolaHola\n",
            "<class 'int'> 5\n",
            "<class 'float'> 1.5\n",
            "<class 'float'> 0.5\n",
            "<class 'int'> 2\n"
          ]
        }
      ]
    },
    {
      "cell_type": "code",
      "metadata": {
        "colab": {
          "base_uri": "https://localhost:8080/"
        },
        "id": "_9-UIdC-aPgy",
        "outputId": "aa9172e8-a732-4dac-8222-84c003da7918"
      },
      "source": [
        "#Función input: Imprime una cadena y lee un objeto dado por el usuario\n",
        "a = input(\"Escribe algo: \")\n",
        "print(a,type(a))"
      ],
      "execution_count": 31,
      "outputs": [
        {
          "output_type": "stream",
          "name": "stdout",
          "text": [
            "Escribe algo: 4\n",
            "4 <class 'str'>\n"
          ]
        }
      ]
    },
    {
      "cell_type": "code",
      "metadata": {
        "id": "zhOIp6L8Xy3U",
        "colab": {
          "base_uri": "https://localhost:8080/"
        },
        "outputId": "a9cdd487-827a-4c4e-dcda-8b4b627e2589"
      },
      "source": [
        "#Sumadora\n",
        "\n",
        "num1 = input(\"Ingresa un número: \")\n",
        "num2 = input(\"Ingresa otro número: \")\n",
        "#result = float(num1) + float(num2)\n",
        "result = int(float(num1)) + int(float(num2))\n",
        "result = float(num1+num2)\n",
        "\n",
        "print(\"Suma:\",result)"
      ],
      "execution_count": 39,
      "outputs": [
        {
          "output_type": "stream",
          "name": "stdout",
          "text": [
            "Ingresa un número: 4\n",
            "Ingresa otro número: 5\n",
            "Suma: 45.0\n"
          ]
        }
      ]
    },
    {
      "cell_type": "code",
      "metadata": {
        "id": "LG4nDYg1tmZb",
        "colab": {
          "base_uri": "https://localhost:8080/"
        },
        "outputId": "b380eee9-eea4-47e2-ea13-af766c80597b"
      },
      "source": [
        "#Otras operaciones (condicionales)\n",
        "\n",
        "a = 4\n",
        "\n",
        "print(a>c,a<c)\n",
        "\n",
        "print(a==c,a==4,a==4.0)\n",
        "\n",
        "print(c>2*c,c<2*c)\n",
        "\n",
        "print(c==2*c,c==c)\n",
        "\n",
        "print(True<False,True>False)\n",
        "\n",
        "#Modulo\n",
        "print(a%3)\n",
        "\n",
        "print(0.5*15%3)"
      ],
      "execution_count": 49,
      "outputs": [
        {
          "output_type": "stream",
          "name": "stdout",
          "text": [
            "True False\n",
            "False True True\n",
            "False True\n",
            "False True\n",
            "False True\n",
            "1\n",
            "1.5\n"
          ]
        }
      ]
    },
    {
      "cell_type": "markdown",
      "metadata": {
        "id": "ujhRYXQar-ac"
      },
      "source": [
        "## Ejercicio\n",
        "\n",
        "Hacer una calculadora que pida dos números al usuario y devuelva la suma, la resta, la multiplicación, división y módulo."
      ]
    },
    {
      "cell_type": "code",
      "metadata": {
        "id": "BZlP9BE6ca2p",
        "colab": {
          "base_uri": "https://localhost:8080/"
        },
        "outputId": "d56e2391-b95c-4e35-f680-aaad26d4d7a5"
      },
      "source": [
        "a = float(input(\"Ingresa un número \"))\n",
        "b = float(input(\"Ingresa un número \"))\n",
        "\n",
        "print(a+b)\n",
        "print(a-b)\n",
        "print(a*b)\n",
        "print(a/b)\n",
        "print(a%b)\n",
        "\n",
        "\n",
        "\n"
      ],
      "execution_count": 50,
      "outputs": [
        {
          "output_type": "stream",
          "name": "stdout",
          "text": [
            "Ingresa un número 5\n",
            "Ingresa un número 5\n",
            "10.0\n",
            "0.0\n",
            "25.0\n",
            "1.0\n",
            "0.0\n"
          ]
        }
      ]
    },
    {
      "cell_type": "markdown",
      "metadata": {
        "id": "1RUoJ3VIeL-S"
      },
      "source": [
        "# Listas"
      ]
    },
    {
      "cell_type": "code",
      "metadata": {
        "id": "9tlz9m7w9ewP",
        "colab": {
          "base_uri": "https://localhost:8080/"
        },
        "outputId": "167cbc36-32f0-4c2a-cd5f-4a5a65085d7b"
      },
      "source": [
        "lista = [a,b,c]\n",
        "print(lista)\n",
        "type(lista)\n",
        "list([a,b,c])\n",
        "\n",
        "#En python los indices inician en 0 y se usa corchetes para acceder a estos\n",
        "print(lista[0])\n",
        "print(lista[-1],lista[-2],lista[-3])\n",
        "\n",
        "#Para medir una lista\n",
        "len(lista)"
      ],
      "execution_count": 58,
      "outputs": [
        {
          "output_type": "stream",
          "name": "stdout",
          "text": [
            "[5.0, 5.0, 0.5]\n",
            "5.0\n",
            "0.5 5.0 5.0\n"
          ]
        },
        {
          "output_type": "execute_result",
          "data": {
            "text/plain": [
              "3"
            ]
          },
          "metadata": {},
          "execution_count": 58
        }
      ]
    },
    {
      "cell_type": "code",
      "metadata": {
        "id": "OxVjup1U-8Ho",
        "colab": {
          "base_uri": "https://localhost:8080/"
        },
        "outputId": "f9e9e7a9-f2f3-40dd-81c0-a7ba1140cc74"
      },
      "source": [
        "lista1=[3,4,\"prueba\",6]\n",
        "lista2=[3,3,\"prueba2\",6]\n",
        "meta_lista = [lista1,lista2]\n",
        "\n",
        "print(meta_lista,len(meta_lista))"
      ],
      "execution_count": 59,
      "outputs": [
        {
          "output_type": "stream",
          "name": "stdout",
          "text": [
            "[[3, 4, 'prueba', 6], [3, 3, 'prueba2', 6]] 2\n"
          ]
        }
      ]
    },
    {
      "cell_type": "code",
      "metadata": {
        "id": "W5gBkp0FwleI",
        "colab": {
          "base_uri": "https://localhost:8080/",
          "height": 35
        },
        "outputId": "6b3672f3-2830-41cb-f19b-5f5ef4c7fbd3"
      },
      "source": [
        "meta_lista[1][2]\n",
        "\n",
        "\n",
        "#infilista_ = [infilista_]"
      ],
      "execution_count": 64,
      "outputs": [
        {
          "output_type": "execute_result",
          "data": {
            "text/plain": [
              "'prueba2'"
            ],
            "application/vnd.google.colaboratory.intrinsic+json": {
              "type": "string"
            }
          },
          "metadata": {},
          "execution_count": 64
        }
      ]
    },
    {
      "cell_type": "code",
      "metadata": {
        "id": "IBWwrfa9AQgZ",
        "colab": {
          "base_uri": "https://localhost:8080/"
        },
        "outputId": "8e0eb1b0-c78c-4ecc-bcc9-4792cc5575d1"
      },
      "source": [
        "meta_meta_lista=[meta_lista,lista1,lista2]\n",
        "print(meta_meta_lista,len(meta_meta_lista))\n",
        "\n",
        "print(meta_meta_lista[0][1][2])"
      ],
      "execution_count": 63,
      "outputs": [
        {
          "output_type": "stream",
          "name": "stdout",
          "text": [
            "[[[3, 4, 'prueba', 6], [3, 3, 'prueba2', 6]], [3, 4, 'prueba', 6], [3, 3, 'prueba2', 6]] 3\n",
            "prueba2\n"
          ]
        }
      ]
    },
    {
      "cell_type": "code",
      "metadata": {
        "id": "I0slc4D_x5kO",
        "colab": {
          "base_uri": "https://localhost:8080/"
        },
        "outputId": "4e153e7e-f308-47f8-e148-239a9b9f1fdb"
      },
      "source": [
        "#Operaciones con listas\n",
        "\n",
        "lista1*3\n",
        "\n",
        "lista1+lista2\n",
        "\n",
        "#lista1*lista2\n"
      ],
      "execution_count": 68,
      "outputs": [
        {
          "output_type": "execute_result",
          "data": {
            "text/plain": [
              "[3, 4, 'prueba', 6, 3, 3, 'prueba2', 6]"
            ]
          },
          "metadata": {},
          "execution_count": 68
        }
      ]
    },
    {
      "cell_type": "code",
      "metadata": {
        "id": "C1E38_K7yxYp",
        "colab": {
          "base_uri": "https://localhost:8080/"
        },
        "outputId": "a684a7af-04da-4880-d28c-b70d1967b5e4"
      },
      "source": [
        "# Diccionarios\n",
        "\n",
        "dic = {\"d1\":3,\"d2\":4,\"d3\":\"Hey\",0:\"Heeeey\"}\n",
        "\n",
        "dic[\"d1\"]\n",
        "\n",
        "dic[0]\n",
        "\n",
        "dic2 = {4:\"JEJE\",2:4}\n",
        "\n",
        "dic2[4]\n",
        "\n",
        "dic3 = {4:lista1,3:meta_lista}\n",
        "\n",
        "dic3[4][2]\n",
        "\n",
        "dic4 = {1:meta_lista,True:4}\n",
        "#dic4 = {1:meta_lista,1:4}\n",
        "\n",
        "dic4[True]\n",
        "\n",
        "#type(dic3)"
      ],
      "execution_count": 78,
      "outputs": [
        {
          "output_type": "execute_result",
          "data": {
            "text/plain": [
              "4"
            ]
          },
          "metadata": {},
          "execution_count": 78
        }
      ]
    },
    {
      "cell_type": "code",
      "source": [
        "lista[0] = 1"
      ],
      "metadata": {
        "id": "sdv5lLJJ5bJQ"
      },
      "execution_count": 85,
      "outputs": []
    },
    {
      "cell_type": "code",
      "metadata": {
        "id": "wpFnyKtFyxf8",
        "colab": {
          "base_uri": "https://localhost:8080/"
        },
        "outputId": "058fa49c-d007-4cfd-ce0a-fbd574e0b4de"
      },
      "source": [
        "#Tuplas\n",
        "\n",
        "tupla1 = (a,b,c)\n",
        "#tupla1[0] = 2\n",
        "\n",
        "tupla_experimental = (lista1,2,3)\n",
        "\n",
        "#tupla_experimental[0][1] = 5\n",
        "\n",
        "#print(tupla1,type(tupla1))\n",
        "\n",
        "#print(a,b,c)\n",
        "\n",
        "#type((a,b,c))\n",
        "\n",
        "a,b,c = 1,2,3\n",
        "\n",
        "b"
      ],
      "execution_count": 90,
      "outputs": [
        {
          "output_type": "execute_result",
          "data": {
            "text/plain": [
              "2"
            ]
          },
          "metadata": {},
          "execution_count": 90
        }
      ]
    },
    {
      "cell_type": "code",
      "metadata": {
        "id": "jzX_LehJh45T",
        "colab": {
          "base_uri": "https://localhost:8080/"
        },
        "outputId": "6444fc31-ec93-4c90-ffda-39d7b5680a6a"
      },
      "source": [
        "#Conjuntos\n",
        "\n",
        "A = set([2,2,3,3,3,4,\"Hola\"])\n",
        "\n",
        "print(A)\n",
        "\n",
        "B = set([3,4,\"Hola\",5])\n",
        "\n",
        "#Intersección\n",
        "B&A\n",
        "\n",
        "# #Diferencia\n",
        "B-A\n",
        "\n",
        "# #Unión\n",
        "A.union(B)\n",
        "A|B\n"
      ],
      "execution_count": 98,
      "outputs": [
        {
          "output_type": "stream",
          "name": "stdout",
          "text": [
            "{2, 3, 4, 'Hola'}\n"
          ]
        },
        {
          "output_type": "execute_result",
          "data": {
            "text/plain": [
              "{2, 3, 4, 5, 'Hola'}"
            ]
          },
          "metadata": {},
          "execution_count": 98
        }
      ]
    },
    {
      "cell_type": "markdown",
      "metadata": {
        "id": "Zq8POxKPBlBZ"
      },
      "source": [
        "# Estructuras de control"
      ]
    },
    {
      "cell_type": "markdown",
      "metadata": {
        "id": "3qiaI0TTEZ8w"
      },
      "source": [
        "## ciclos for"
      ]
    },
    {
      "cell_type": "code",
      "metadata": {
        "id": "BNCB9dR_A5hp",
        "colab": {
          "base_uri": "https://localhost:8080/"
        },
        "outputId": "b6b5b22c-4a24-4d62-eda5-a55fdadf2215"
      },
      "source": [
        "print(lista1[0])\n",
        "print(lista1[1])\n",
        "print(lista1[2])\n",
        "print(lista1[3])"
      ],
      "execution_count": null,
      "outputs": [
        {
          "output_type": "stream",
          "name": "stdout",
          "text": [
            "3\n",
            "4\n",
            "prueba\n",
            "6\n"
          ]
        }
      ]
    },
    {
      "cell_type": "code",
      "metadata": {
        "id": "_h6xGYeMD1I7",
        "colab": {
          "base_uri": "https://localhost:8080/",
          "height": 35
        },
        "outputId": "2faa27c9-3606-4794-974c-171a96ed214f"
      },
      "source": [
        "lista1"
      ],
      "execution_count": null,
      "outputs": [
        {
          "output_type": "execute_result",
          "data": {
            "text/plain": [
              "[3, 4, 'prueba', 6]"
            ]
          },
          "metadata": {
            "tags": []
          },
          "execution_count": 7
        }
      ]
    },
    {
      "cell_type": "code",
      "metadata": {
        "id": "NHXUs3KHB0G4",
        "colab": {
          "base_uri": "https://localhost:8080/"
        },
        "outputId": "196f14d9-e749-4d12-bbc9-458b4473fbe3"
      },
      "source": [
        "for i in range(4):\n",
        "  #print(i)\n",
        "  print(lista1[i])\n",
        "\n",
        "print(\"Hola\")"
      ],
      "execution_count": 101,
      "outputs": [
        {
          "output_type": "stream",
          "name": "stdout",
          "text": [
            "3\n",
            "5\n",
            "prueba\n",
            "6\n",
            "Hola\n"
          ]
        }
      ]
    },
    {
      "cell_type": "code",
      "source": [
        "dic2"
      ],
      "metadata": {
        "colab": {
          "base_uri": "https://localhost:8080/"
        },
        "id": "KgRfvr3H73Mz",
        "outputId": "581f0a43-baee-45fd-e07e-970efbda7cbe"
      },
      "execution_count": 113,
      "outputs": [
        {
          "output_type": "execute_result",
          "data": {
            "text/plain": [
              "{4: 'JEJE', 2: 4}"
            ]
          },
          "metadata": {},
          "execution_count": 113
        }
      ]
    },
    {
      "cell_type": "code",
      "source": [
        "dic2.keys()\n",
        "type(dic2.items())\n",
        "\n",
        "#type(dic2.values())"
      ],
      "metadata": {
        "colab": {
          "base_uri": "https://localhost:8080/"
        },
        "id": "Wu2zieZh7bXV",
        "outputId": "6bfe9e4d-9810-4318-dff6-a67f9baf8c81"
      },
      "execution_count": 111,
      "outputs": [
        {
          "output_type": "execute_result",
          "data": {
            "text/plain": [
              "dict_items"
            ]
          },
          "metadata": {},
          "execution_count": 111
        }
      ]
    },
    {
      "cell_type": "code",
      "metadata": {
        "id": "jeq3mBarCTBj",
        "colab": {
          "base_uri": "https://localhost:8080/"
        },
        "outputId": "b6a44423-81bb-4c1a-ea58-c8cb6a4d9621"
      },
      "source": [
        "for i in dic2.items():\n",
        "  print(i)"
      ],
      "execution_count": 112,
      "outputs": [
        {
          "output_type": "stream",
          "name": "stdout",
          "text": [
            "(4, 'JEJE')\n",
            "(2, 4)\n"
          ]
        }
      ]
    },
    {
      "cell_type": "code",
      "metadata": {
        "id": "qmYxQH71DsWy",
        "colab": {
          "base_uri": "https://localhost:8080/"
        },
        "outputId": "5e4cf2c9-0685-42ba-e593-261c94f870ff"
      },
      "source": [
        "meta_lista =\n",
        " [\n",
        "    [\n",
        "      [3, 4, 'prueba', 6], [3, 3, 'prueba2', 6]\n",
        "      ],\n",
        "    [3, 4, 'prueba', 6],\n",
        "    [3, 3, 'prueba2', 6]\n",
        "  ]\n",
        "\n",
        "meta_lista"
      ],
      "execution_count": 114,
      "outputs": [
        {
          "output_type": "execute_result",
          "data": {
            "text/plain": [
              "[[[3, 4, 'prueba', 6], [3, 3, 'prueba2', 6]],\n",
              " [3, 4, 'prueba', 6],\n",
              " [3, 3, 'prueba2', 6]]"
            ]
          },
          "metadata": {},
          "execution_count": 114
        }
      ]
    },
    {
      "cell_type": "markdown",
      "metadata": {
        "id": "tTsW0i5CFqQu"
      },
      "source": [
        "Python es un lenguaje identado (que importa la tabulación)"
      ]
    },
    {
      "cell_type": "code",
      "metadata": {
        "id": "UoyV5ogiDlDt",
        "colab": {
          "base_uri": "https://localhost:8080/"
        },
        "outputId": "15192885-6f89-48bd-ef08-f2a909bd3cec"
      },
      "source": [
        "for i in meta_lista:\n",
        "  print(i)\n",
        "  #print(\"s\")\n",
        "\n",
        "#print(\"Hola\")"
      ],
      "execution_count": 116,
      "outputs": [
        {
          "output_type": "stream",
          "name": "stdout",
          "text": [
            "[[3, 4, 'prueba', 6], [3, 3, 'prueba2', 6]]\n",
            "[3, 4, 'prueba', 6]\n",
            "[3, 3, 'prueba2', 6]\n"
          ]
        }
      ]
    },
    {
      "cell_type": "code",
      "metadata": {
        "id": "P4doQli0Ihia",
        "colab": {
          "base_uri": "https://localhost:8080/",
          "height": 106
        },
        "outputId": "383469b1-0148-4dbd-e860-61e5943dc9e2"
      },
      "source": [
        "print(len(lista_extraña))\n",
        "print(len(lista_extraña[0]))\n",
        "print(len(lista_extraña[1]))\n",
        "print(len(lista_extraña[2]))\n",
        "(2+4+4)"
      ],
      "execution_count": null,
      "outputs": [
        {
          "output_type": "stream",
          "text": [
            "3\n",
            "2\n",
            "4\n",
            "4\n"
          ],
          "name": "stdout"
        },
        {
          "output_type": "execute_result",
          "data": {
            "text/plain": [
              "10"
            ]
          },
          "metadata": {
            "tags": []
          },
          "execution_count": 74
        }
      ]
    },
    {
      "cell_type": "code",
      "source": [
        "a = [1,2,3]\n",
        "a.append([3,4,5])\n",
        "a\n",
        "a.pop()"
      ],
      "metadata": {
        "colab": {
          "base_uri": "https://localhost:8080/"
        },
        "id": "qoXQkAFw8035",
        "outputId": "3d0438aa-4dec-4182-d861-bc9060bf45db"
      },
      "execution_count": 128,
      "outputs": [
        {
          "output_type": "execute_result",
          "data": {
            "text/plain": [
              "[3, 4, 5]"
            ]
          },
          "metadata": {},
          "execution_count": 128
        }
      ]
    },
    {
      "cell_type": "code",
      "metadata": {
        "id": "8o47SGnRFoTG",
        "colab": {
          "base_uri": "https://localhost:8080/"
        },
        "outputId": "57176baa-3a10-4f89-fa11-ba1033491352"
      },
      "source": [
        "#For anidado\n",
        "for i in meta_lista:\n",
        "  print(\"i:\",i)\n",
        "  for j in i:\n",
        "\n",
        "    print(\"j:\",j)\n",
        "    #print(\"Hola\")\n",
        "\n",
        "  #print(\"Adios\")\n",
        "\n"
      ],
      "execution_count": 118,
      "outputs": [
        {
          "output_type": "stream",
          "name": "stdout",
          "text": [
            "i: [[3, 4, 'prueba', 6], [3, 3, 'prueba2', 6]]\n",
            "j: [3, 4, 'prueba', 6]\n",
            "j: [3, 3, 'prueba2', 6]\n",
            "i: [3, 4, 'prueba', 6]\n",
            "j: 3\n",
            "j: 4\n",
            "j: prueba\n",
            "j: 6\n",
            "i: [3, 3, 'prueba2', 6]\n",
            "j: 3\n",
            "j: 3\n",
            "j: prueba2\n",
            "j: 6\n"
          ]
        }
      ]
    },
    {
      "cell_type": "code",
      "metadata": {
        "id": "85EXKZZPJxfQ",
        "colab": {
          "base_uri": "https://localhost:8080/"
        },
        "outputId": "d424fca3-9c8b-4b8a-e09d-beb3e246b3e8"
      },
      "source": [
        "lista_prueba = [lista1,lista2]\n",
        "\n",
        "#For anidado\n",
        "for i in lista_prueba:\n",
        "  for j in i:\n",
        "    print(j)\n",
        "    print(\"Hola\")\n",
        "\n",
        "  print(\"Adios\")\n",
        "\n"
      ],
      "execution_count": null,
      "outputs": [
        {
          "output_type": "stream",
          "name": "stdout",
          "text": [
            "3\n",
            "Hola\n",
            "4\n",
            "Hola\n",
            "prueba\n",
            "Hola\n",
            "6\n",
            "Hola\n",
            "Adios\n",
            "3\n",
            "Hola\n",
            "3\n",
            "Hola\n",
            "prueba2\n",
            "Hola\n",
            "6\n",
            "Hola\n",
            "Adios\n"
          ]
        }
      ]
    },
    {
      "cell_type": "markdown",
      "metadata": {
        "id": "Ni6oLXUUNc36"
      },
      "source": [
        "## Booleanos, if, else"
      ]
    },
    {
      "cell_type": "code",
      "metadata": {
        "id": "6rVSPEY-LDld",
        "colab": {
          "base_uri": "https://localhost:8080/"
        },
        "outputId": "289b2996-548b-48a9-ea5f-7ded28628975"
      },
      "source": [
        "T = True\n",
        "F = False\n",
        "pregunta = T\n",
        "\n",
        "if pregunta == True:\n",
        "  print(\"Verdadero\")\n",
        "else:\n",
        "  print(\"Falso\")"
      ],
      "execution_count": 130,
      "outputs": [
        {
          "output_type": "stream",
          "name": "stdout",
          "text": [
            "Verdadero\n"
          ]
        }
      ]
    },
    {
      "cell_type": "code",
      "metadata": {
        "id": "Q083vjt4MDjh",
        "colab": {
          "base_uri": "https://localhost:8080/"
        },
        "outputId": "38368b15-d37f-4eeb-d96e-3c9a6a88c2c0"
      },
      "source": [
        "a=5\n",
        "if a < 4:\n",
        "  print(\"Verdadero\")\n",
        "else:\n",
        "  print(\"Falso\")"
      ],
      "execution_count": 131,
      "outputs": [
        {
          "output_type": "stream",
          "name": "stdout",
          "text": [
            "Falso\n"
          ]
        }
      ]
    },
    {
      "cell_type": "code",
      "metadata": {
        "id": "GCYM7SKQM4AL",
        "colab": {
          "base_uri": "https://localhost:8080/",
          "height": 35
        },
        "outputId": "83dace11-2be5-47f2-f881-7acee085ed1b"
      },
      "source": [
        "# En python dos iguales significa preguntar si son iguales\n",
        "\n",
        "a == 5"
      ],
      "execution_count": null,
      "outputs": [
        {
          "output_type": "execute_result",
          "data": {
            "text/plain": [
              "False"
            ]
          },
          "metadata": {
            "tags": []
          },
          "execution_count": 87
        }
      ]
    },
    {
      "cell_type": "code",
      "metadata": {
        "id": "gjzjPHfzMOJg",
        "colab": {
          "base_uri": "https://localhost:8080/"
        },
        "outputId": "c54fbb28-91db-43ff-9269-0b65e481af95"
      },
      "source": [
        "booleano = a == 5\n",
        "booleano"
      ],
      "execution_count": null,
      "outputs": [
        {
          "output_type": "execute_result",
          "data": {
            "text/plain": [
              "True"
            ]
          },
          "metadata": {},
          "execution_count": 114
        }
      ]
    },
    {
      "cell_type": "code",
      "metadata": {
        "id": "ATJBMIlKM27p",
        "colab": {
          "base_uri": "https://localhost:8080/",
          "height": 70
        },
        "outputId": "02715a06-5783-40ee-b324-a1a57842763a"
      },
      "source": [
        "#También se puede con desigualdades\n",
        "\n",
        "print(a < 6)\n",
        "print(a <= 6)\n",
        "print(a > 4)\n"
      ],
      "execution_count": null,
      "outputs": [
        {
          "output_type": "stream",
          "text": [
            "False\n",
            "True\n",
            "True\n"
          ],
          "name": "stdout"
        }
      ]
    },
    {
      "cell_type": "markdown",
      "metadata": {
        "id": "Q79Rj2KsEc0v"
      },
      "source": [
        "# ciclos while\n",
        "\n",
        "Son útiles para cuando quieres evaluar condiciones o conjuntos que no están definidos a priori"
      ]
    },
    {
      "cell_type": "code",
      "metadata": {
        "id": "rmp5LIiwDtoq",
        "colab": {
          "base_uri": "https://localhost:8080/"
        },
        "outputId": "4c25ee91-02f3-4712-a4c5-1e68ed016125"
      },
      "source": [
        "i=0\n",
        "while i < len(lista1):\n",
        "  print(i,lista1[i])\n",
        "  #print(\"ejele\")\n",
        "  i+=1"
      ],
      "execution_count": 136,
      "outputs": [
        {
          "output_type": "stream",
          "name": "stdout",
          "text": [
            "0 3\n",
            "1 5\n",
            "2 prueba\n",
            "3 6\n"
          ]
        }
      ]
    },
    {
      "cell_type": "code",
      "source": [
        "meta_lista"
      ],
      "metadata": {
        "colab": {
          "base_uri": "https://localhost:8080/"
        },
        "id": "7b1LGbJj_ChZ",
        "outputId": "dff91d6a-137c-4077-a9bd-a06ad9a9b02e"
      },
      "execution_count": 139,
      "outputs": [
        {
          "output_type": "execute_result",
          "data": {
            "text/plain": [
              "[[[3, 4, 'prueba', 6], [3, 3, 'prueba2', 6]],\n",
              " [3, 4, 'prueba', 6],\n",
              " [3, 3, 'prueba2', 6]]"
            ]
          },
          "metadata": {},
          "execution_count": 139
        }
      ]
    },
    {
      "cell_type": "code",
      "metadata": {
        "id": "OqUD3K7CNvP7",
        "colab": {
          "base_uri": "https://localhost:8080/"
        },
        "outputId": "93cc2ca3-b05f-4294-8091-fa3666283d2c"
      },
      "source": [
        "\n",
        "i=0\n",
        "while i < len(meta_lista):\n",
        "  elemento = meta_lista[i]\n",
        "  i=i+1\n",
        "  print(i)\n",
        "  for j in elemento:\n",
        "    print(j)\n",
        "\n",
        "  print(\"Adios\")"
      ],
      "execution_count": 141,
      "outputs": [
        {
          "output_type": "stream",
          "name": "stdout",
          "text": [
            "1\n",
            "[3, 4, 'prueba', 6]\n",
            "[3, 3, 'prueba2', 6]\n",
            "Adios\n",
            "2\n",
            "3\n",
            "4\n",
            "prueba\n",
            "6\n",
            "Adios\n",
            "3\n",
            "3\n",
            "3\n",
            "prueba2\n",
            "6\n",
            "Adios\n"
          ]
        }
      ]
    },
    {
      "cell_type": "markdown",
      "metadata": {
        "id": "0SzwgRZ8Pqpc"
      },
      "source": [
        "## Ejercicio\n",
        "\n",
        "- Crear una lista que contenga 4 elementos de los distintos tipos de variables que vimos\n",
        "\n",
        "- Hacer una lista de listas que contenga 3 listas con 5 elementos cada una (todos numéricos)\n",
        "\n",
        "- Usando for o while hacer que se sumen todos los valores de esta lista\n",
        "\n"
      ]
    },
    {
      "cell_type": "markdown",
      "metadata": {
        "id": "gZOU4gWi1muu"
      },
      "source": [
        "# Funciones"
      ]
    },
    {
      "cell_type": "code",
      "metadata": {
        "id": "9XJziNmHQrd6"
      },
      "source": [
        "def calculadora(num1,num2,operacion=\"suma\"):\n",
        "  if operacion == \"suma\":\n",
        "    result = num1 + num2\n",
        "  elif operacion == \"resta\":\n",
        "    result = num1 - num2\n",
        "  elif operacion == \"producto\":\n",
        "    result = num1*num2\n",
        "  elif operacion == \"cociente\":\n",
        "    result = num1/num2\n",
        "  #else:\n",
        "  #  result = \"Operación desconocida, operaciones válidas: suma, resta, producto, cociente\"\n",
        "  return result\n",
        "\n"
      ],
      "execution_count": 149,
      "outputs": []
    },
    {
      "cell_type": "code",
      "source": [
        "calculadora(2,3,\"resta\")"
      ],
      "metadata": {
        "colab": {
          "base_uri": "https://localhost:8080/"
        },
        "id": "LQF7o226AUWO",
        "outputId": "05342066-36a1-4a88-d402-a07e2ffd7a8d"
      },
      "execution_count": 152,
      "outputs": [
        {
          "output_type": "execute_result",
          "data": {
            "text/plain": [
              "-1"
            ]
          },
          "metadata": {},
          "execution_count": 152
        }
      ]
    },
    {
      "cell_type": "code",
      "metadata": {
        "id": "FGvL4jCOQrgu",
        "colab": {
          "base_uri": "https://localhost:8080/",
          "height": 35
        },
        "outputId": "132c1cde-952b-4a23-a017-26ed98b2e21e"
      },
      "source": [
        "calculadora(\"hola\",5,\"producto\")"
      ],
      "execution_count": 145,
      "outputs": [
        {
          "output_type": "execute_result",
          "data": {
            "text/plain": [
              "'holaholaholaholahola'"
            ],
            "application/vnd.google.colaboratory.intrinsic+json": {
              "type": "string"
            }
          },
          "metadata": {},
          "execution_count": 145
        }
      ]
    },
    {
      "cell_type": "code",
      "metadata": {
        "id": "z7AAWp3kQrjs",
        "colab": {
          "base_uri": "https://localhost:8080/"
        },
        "outputId": "5744b825-86e8-48ab-ddf1-22c0f83bc95b"
      },
      "source": [
        "def calculadora():\n",
        "  num1 = float(input(\"Ingresa un número: \"))\n",
        "  num2 = float(input(\"Ingresa otro número: \"))\n",
        "  operacion = int(input(\"Ingrese el número de la operación que desea realizar: 1:suma, 2:resta, 3:producto, 4:cociente \"))\n",
        "\n",
        "  if operacion == 1:\n",
        "    result = num1 + num2\n",
        "  elif operacion == 2:\n",
        "    result = num1 - num2\n",
        "  elif operacion == 3:\n",
        "    result = num1*num2\n",
        "  elif operacion == 4:\n",
        "    result = num1/num2\n",
        "  else:\n",
        "    result = \"Operación desconocida, operaciones válidas: suma, resta, producto, cociente\"\n",
        "\n",
        "  return float(result)\n",
        "\n",
        "calculadora()"
      ],
      "execution_count": null,
      "outputs": [
        {
          "name": "stdout",
          "output_type": "stream",
          "text": [
            "Ingresa un número: 5\n",
            "Ingresa otro número: 9.2\n",
            "Ingrese el número de la operación que desea realizar: 1:suma, 2:resta, 3:producto, 4:cociente 2\n"
          ]
        },
        {
          "output_type": "execute_result",
          "data": {
            "text/plain": [
              "-4.199999999999999"
            ]
          },
          "metadata": {},
          "execution_count": 122
        }
      ]
    },
    {
      "cell_type": "code",
      "metadata": {
        "id": "S9_6J8RnRVVs"
      },
      "source": [],
      "execution_count": null,
      "outputs": []
    },
    {
      "cell_type": "code",
      "metadata": {
        "id": "IZYV57dtRVY4"
      },
      "source": [],
      "execution_count": null,
      "outputs": []
    },
    {
      "cell_type": "code",
      "metadata": {
        "id": "Tr-AeNBXRVcN"
      },
      "source": [],
      "execution_count": null,
      "outputs": []
    },
    {
      "cell_type": "code",
      "metadata": {
        "id": "ZJSkKGJyRVhq"
      },
      "source": [],
      "execution_count": null,
      "outputs": []
    }
  ]
}