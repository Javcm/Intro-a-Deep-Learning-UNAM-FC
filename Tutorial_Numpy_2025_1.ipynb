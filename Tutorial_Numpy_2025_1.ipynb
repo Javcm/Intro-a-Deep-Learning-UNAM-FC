{
  "nbformat": 4,
  "nbformat_minor": 0,
  "metadata": {
    "colab": {
      "provenance": [],
      "include_colab_link": true
    },
    "kernelspec": {
      "name": "python3",
      "display_name": "Python 3"
    }
  },
  "cells": [
    {
      "cell_type": "markdown",
      "metadata": {
        "id": "view-in-github",
        "colab_type": "text"
      },
      "source": [
        "<a href=\"https://colab.research.google.com/github/Javcm/Intro-a-Deep-Learning-UNAM-FC/blob/main/Tutorial_Numpy_2025_1.ipynb\" target=\"_parent\"><img src=\"https://colab.research.google.com/assets/colab-badge.svg\" alt=\"Open In Colab\"/></a>"
      ]
    },
    {
      "cell_type": "markdown",
      "metadata": {
        "id": "7y4zCwlrpjey"
      },
      "source": [
        "<img src = \"https://drive.google.com/uc?id=17atj9OubRtxp1m0gVTwAGORykjvdxWA0\" align = \"center\" >"
      ]
    },
    {
      "cell_type": "markdown",
      "metadata": {
        "id": "HLGXEww0poe5"
      },
      "source": [
        "<font color = 'BlackCyan' size = 8>\n",
        "Tutorial Numpy"
      ]
    },
    {
      "cell_type": "markdown",
      "metadata": {
        "id": "AmUIJ_6sprNI"
      },
      "source": [
        "<font size=4>\n",
        "En este Notebook se aborda el uso de la paquetería Numpy y su aplicación en diversas áreas."
      ]
    },
    {
      "cell_type": "markdown",
      "metadata": {
        "id": "ez4J-jmSpt_n"
      },
      "source": [
        "<font size = 5, color = \"blue\">\n",
        "1.- ¿Por qué Numpy?"
      ]
    },
    {
      "cell_type": "markdown",
      "metadata": {
        "id": "V2_gud2jpw1Q"
      },
      "source": [
        "<font size=4>\n",
        "Numpy es una biblioteca que se ha vuelto esencial para el cómputo científico al utilizar el lenguaje de programación Python.\n",
        "Destaca como una de las bibliotecas más recurrentes y útilies debido a que permite realizar operaciones con mayor sencillez y eficiencia."
      ]
    },
    {
      "cell_type": "markdown",
      "metadata": {
        "id": "QfrWlNdHp0Vr"
      },
      "source": [
        "## <font size=4> Cualquier cosa que quieras saber de esta biblioteca en el futuro lo puedes encontrar [aquí](https://numpy.org/doc/stable/)\n"
      ]
    },
    {
      "cell_type": "markdown",
      "metadata": {
        "id": "1HjXn5DGp6cM"
      },
      "source": [
        "<font size = 5, color = \"blue\">\n",
        "2.- Ventajas de utilizar Numpy"
      ]
    },
    {
      "cell_type": "markdown",
      "metadata": {
        "id": "zWLLB-UMp9Sg"
      },
      "source": [
        "<font size = 4>\n",
        "\n",
        "Comparemos la biblioteca **math** y **numpy** al definir la función Sigmoide, la cual es una función muy utilizada en Deep Learning. En particular observemos la forma en que operan **math.exp()** y **np.exp()**:"
      ]
    },
    {
      "cell_type": "markdown",
      "metadata": {
        "id": "GTvMI4-GqAIk"
      },
      "source": [
        "<font size = 4>\n",
        "Recordando que:\n",
        "$sigmoid(x) = \\frac{1}{1+e^{-x}}$"
      ]
    },
    {
      "cell_type": "markdown",
      "metadata": {
        "id": "xETnuUZ6peZj"
      },
      "source": [
        "<img src = \"https://drive.google.com/uc?id=1NdvUhSr_AGYmQ1XByZUcfq87d36wvKi_\" align = \"center\" >"
      ]
    },
    {
      "cell_type": "code",
      "source": [
        "#Definimos la función utilizando la biblioteca math:\n",
        "\n",
        "import math\n",
        "\n",
        "def sigmoide_math(x):\n",
        "    '''\n",
        "    Input: elemento del tipo int o float\n",
        "    output: elemento del tipo int o float\n",
        "    '''\n",
        "    return 1/(1 + math.exp(-x))"
      ],
      "metadata": {
        "id": "00EAOp85pXVv"
      },
      "execution_count": null,
      "outputs": []
    },
    {
      "cell_type": "markdown",
      "metadata": {
        "id": "8E0JjY0aqpM8"
      },
      "source": [
        "<font size = 4>\n",
        "\n",
        "Las entradas de la función sigmoide suelen ser vectores, en este caso probaremos con enteros, flotantes y vectores:"
      ]
    },
    {
      "cell_type": "code",
      "metadata": {
        "colab": {
          "base_uri": "https://localhost:8080/"
        },
        "id": "z6DZG4NypeK3",
        "outputId": "727838c7-62e8-4b8a-df75-a0841241cbb0"
      },
      "source": [
        "#Calculamos el valor de sigmoide para x = 1 como entero y flotante:\n",
        "\n",
        "x = 1 #int(1)\n",
        "y = 1.0 #float(1)\n",
        "\n",
        "print(\"x es del tipo {} y sigmoide(x) tiene el valor {:.5f}\\n y es del tipo {} y sigmoide(y) tiene el valor {:.5f}\"\\\n",
        "      .format( type(x), sigmoide_math(x), type(y), sigmoide_math(y) ) )\n",
        "\n",
        "\n",
        "#print(\"database es una {} con {} elements and shape {}.\".format(type(database), len(database), database.shape))"
      ],
      "execution_count": null,
      "outputs": [
        {
          "output_type": "stream",
          "name": "stdout",
          "text": [
            "x es del tipo <class 'int'> y sigmoide(x) tiene el valor 0.73106\n",
            " y es del tipo <class 'float'> y sigmoide(y) tiene el valor 0.73106\n"
          ]
        }
      ]
    },
    {
      "cell_type": "code",
      "source": [
        "#Notemos que \"sigmoide_math(y)\" es un flotante:\n",
        "\n",
        "type(sigmoide_math(x))"
      ],
      "metadata": {
        "colab": {
          "base_uri": "https://localhost:8080/"
        },
        "id": "pJTg2NhYV4Ge",
        "outputId": "caf92b44-422e-4414-e357-68bbb365fb57"
      },
      "execution_count": null,
      "outputs": [
        {
          "output_type": "execute_result",
          "data": {
            "text/plain": [
              "float"
            ]
          },
          "metadata": {},
          "execution_count": 5
        }
      ]
    },
    {
      "cell_type": "markdown",
      "metadata": {
        "id": "HCMF8DMxrYHf"
      },
      "source": [
        "<font size = 4>\n",
        "    \n",
        "Observamos que no hay diferencia."
      ]
    },
    {
      "cell_type": "markdown",
      "metadata": {
        "id": "PRUSHPlMra_Q"
      },
      "source": [
        "<font size = 4>\n",
        "    \n",
        "Ahora bien, si intentamos calcular el valor de **sigmoide_math()** de X = [1,2,3], obtenemos:"
      ]
    },
    {
      "cell_type": "code",
      "source": [
        "X = [1,2,3]\n",
        "\n",
        "sigmoide_math(X)"
      ],
      "metadata": {
        "id": "sxgyKeieUCvQ"
      },
      "execution_count": null,
      "outputs": []
    },
    {
      "cell_type": "markdown",
      "metadata": {
        "id": "GxQ3OQ2CH4dJ"
      },
      "source": [
        "<font size = 4>\n",
        "\n",
        "Este error se debe a que **math** funciona con variables del tipo entero y flotante."
      ]
    },
    {
      "cell_type": "code",
      "metadata": {
        "id": "Q4WS7rEXpfBi"
      },
      "source": [
        "#Importamos Numpy\n",
        "\n",
        "import numpy as np  #pip install numpy\n",
        "                    #conda install numpy"
      ],
      "execution_count": 1,
      "outputs": []
    },
    {
      "cell_type": "markdown",
      "metadata": {
        "id": "yErtEFtOspVo"
      },
      "source": [
        "<font size = 4>\n",
        "\n",
        "Probemos utilizando **np.exp()** para los tres tipos de variable: entero, flotante, vector(arreglo):"
      ]
    },
    {
      "cell_type": "code",
      "metadata": {
        "id": "nse5i8IDstDP"
      },
      "source": [
        "np.exp?"
      ],
      "execution_count": null,
      "outputs": []
    },
    {
      "cell_type": "code",
      "metadata": {
        "id": "tQJLfFEgsPZ5"
      },
      "source": [
        "#Definimos la función sigmoid utilizando Numpy:\n",
        "\n",
        "def sigmoid_np(x):\n",
        "    \"\"\"\n",
        "    Input: Vector X del tipo arreglo de numpy\n",
        "    Output: Arreglo de numpy\n",
        "    \"\"\"\n",
        "    return 1/(1 + np.exp(-x))"
      ],
      "execution_count": null,
      "outputs": []
    },
    {
      "cell_type": "code",
      "source": [],
      "metadata": {
        "id": "u24vIGRhUe53"
      },
      "execution_count": null,
      "outputs": []
    },
    {
      "cell_type": "code",
      "source": [
        "X = [1,2,3]\n",
        "sigmoid_np(X) #X = [1,2,3]"
      ],
      "metadata": {
        "id": "_EQ2gihmUi-a"
      },
      "execution_count": null,
      "outputs": []
    },
    {
      "cell_type": "code",
      "source": [],
      "metadata": {
        "id": "oFF6g9WTUjKh"
      },
      "execution_count": null,
      "outputs": []
    },
    {
      "cell_type": "code",
      "source": [],
      "metadata": {
        "id": "TmXXHrPpUjXU"
      },
      "execution_count": null,
      "outputs": []
    },
    {
      "cell_type": "code",
      "source": [],
      "metadata": {
        "id": "s2maowVhUjm9"
      },
      "execution_count": null,
      "outputs": []
    },
    {
      "cell_type": "code",
      "metadata": {
        "id": "nUVCN8sQJL-P"
      },
      "source": [
        "#Numpy no puede calcular la exponencial de una lista, pero sí la puede convertir en un ARREGLO.\n",
        "\n",
        "X = np.array( [1,2,3] )\n",
        "\n",
        "print(X, type(X))"
      ],
      "execution_count": null,
      "outputs": []
    },
    {
      "cell_type": "code",
      "source": [
        "sigmoid_np(X)"
      ],
      "metadata": {
        "id": "ctARQMFCVUX-"
      },
      "execution_count": null,
      "outputs": []
    },
    {
      "cell_type": "code",
      "source": [],
      "metadata": {
        "id": "66KxpurUVh6P"
      },
      "execution_count": null,
      "outputs": []
    },
    {
      "cell_type": "code",
      "source": [],
      "metadata": {
        "id": "DXqNErsGYm3m"
      },
      "execution_count": null,
      "outputs": []
    },
    {
      "cell_type": "code",
      "source": [],
      "metadata": {
        "id": "L8ZkKphCViBq"
      },
      "execution_count": null,
      "outputs": []
    },
    {
      "cell_type": "code",
      "source": [
        "#Evaluamos con x, y, X:\n",
        "\n",
        "\n",
        "print(\"'x' es del tipo {} y sigmoide_np(x) tiene el valor {:.5f} \\n\\n 'y' es del tipo {} y sigmoide(y) tiene el valor {:.5f}\\\n",
        " \\n\\n 'X' es del tipo {} y sigmoide_np de X tiene el valor de {}\"\\\n",
        "      .format(type(x), sigmoid_np(x),type(y), sigmoid_np(y), type(X), sigmoid_np(X)))"
      ],
      "metadata": {
        "id": "dsz8nPGQVwxz"
      },
      "execution_count": null,
      "outputs": []
    },
    {
      "cell_type": "markdown",
      "metadata": {
        "id": "XRknjCkhuTNu"
      },
      "source": [
        "<font size = 4>\n",
        "\n",
        "Lo que ocurre es que **Numpy** calcula la exponencial de cada una de las entradas del vector 'X' y regresa np.exp(X) como un vector de la misma forma que 'X'.\n",
        "    \n",
        "<font color = \"red\">    \n",
        "\n",
        "$$ \\text{For } x \\in \\mathbb{R}^n \\text{,     } sigmoid(x) = sigmoid\\begin{pmatrix}\n",
        "    x_1  \\\\\n",
        "    x_2  \\\\\n",
        "    ...  \\\\\n",
        "    x_n  \\\\\n",
        "\\end{pmatrix} = \\begin{pmatrix}\n",
        "    \\frac{1}{1+e^{-x_1}}  \\\\\n",
        "    \\frac{1}{1+e^{-x_2}}  \\\\\n",
        "    ...  \\\\\n",
        "    \\frac{1}{1+e^{-x_n}}  \\\\\n",
        "\\end{pmatrix}\\tag{1} $$"
      ]
    },
    {
      "cell_type": "markdown",
      "metadata": {
        "id": "6ZhP98RGw9S5"
      },
      "source": [
        "<font size = 5, color = \"blue\">\n",
        "3.- Gradiente de la Función Sigmoide"
      ]
    },
    {
      "cell_type": "markdown",
      "metadata": {
        "id": "N57fdnlXxAPx"
      },
      "source": [
        "<font size = 4>\n",
        "\n",
        "Como se verá más adelante, para optimizar una función de activación se requiere calcular el gradiente de funciones al hacer retropropagación (Gradient Descent). En este sentido, calculemos el **gradiente** de la función **sigmoide** el cual se determina mediante la ecuación (recordando que  $sigmoid(x) = \\frac{1}{1+e^{-x}}$ )\n",
        "\n",
        " $$ sigmoid\\_gradient (x) = \\sigma '(x) = \\sigma (x) (1 - \\sigma (x)) \\tag {2} $$\n",
        "    \n",
        "Puedes comprobar que la ecuación es correcta diferenciando respecto a la variable de la función."
      ]
    },
    {
      "cell_type": "code",
      "metadata": {
        "id": "TOFAASjbs-QZ"
      },
      "source": [
        "# EJERCICIO\n",
        "\n",
        "# Implementa la función sigmoid_gradient(x)\n",
        "\n",
        "\n",
        "\n",
        "def sigmoid_gradient(x):\n",
        "    \"\"\"\n",
        "    Input: x, un entero, flotante o arreglo de numpy.\n",
        "    output: gradiente de sigmoid(x), flotante.\n",
        "    \"\"\"\n",
        "    # código\n",
        "\n",
        "    sig_grad =\n",
        "\n",
        "    return sig_grad"
      ],
      "execution_count": null,
      "outputs": []
    },
    {
      "cell_type": "code",
      "source": [],
      "metadata": {
        "id": "w03AAipFaeAn"
      },
      "execution_count": null,
      "outputs": []
    },
    {
      "cell_type": "code",
      "metadata": {
        "colab": {
          "base_uri": "https://localhost:8080/"
        },
        "id": "LAD6AGP9tJSd",
        "outputId": "2dae77dd-f805-425b-f8d0-2da97f431301"
      },
      "source": [
        "#Probamos con el arreglo X definido previamente\n",
        "\n",
        "sigmoid_gradient(X)"
      ],
      "execution_count": null,
      "outputs": [
        {
          "output_type": "execute_result",
          "data": {
            "text/plain": [
              "array([0.19661193, 0.10499359, 0.04517666])"
            ]
          },
          "metadata": {},
          "execution_count": 38
        }
      ]
    },
    {
      "cell_type": "code",
      "source": [
        "#type(X)\n",
        "np.shape(X)"
      ],
      "metadata": {
        "colab": {
          "base_uri": "https://localhost:8080/"
        },
        "id": "wYdwndkEbM-P",
        "outputId": "ecb2fcd5-06fa-4451-ff25-0ddeb23e6d14"
      },
      "execution_count": null,
      "outputs": [
        {
          "output_type": "execute_result",
          "data": {
            "text/plain": [
              "(3,)"
            ]
          },
          "metadata": {},
          "execution_count": 28
        }
      ]
    },
    {
      "cell_type": "markdown",
      "metadata": {
        "id": "acYFg1RvzOcu"
      },
      "source": [
        "<font size = 5, color = \"blue\">\n",
        "4.- Array Reshape"
      ]
    },
    {
      "cell_type": "markdown",
      "metadata": {
        "id": "ZuxYOVnozR4t"
      },
      "source": [
        "<font size = 4>\n",
        "\n",
        "Veamos el funcionamiento de dos atributos muy utilizados en el tratamiento de datos con Numpy: **np.shape()** y **np.reshape()**."
      ]
    },
    {
      "cell_type": "markdown",
      "metadata": {
        "id": "rm11-WD0zWSP"
      },
      "source": [
        "<font size = 4>\n",
        "\n",
        "1.- **np.shape()** se utiliza para saber las dimensiones de un arreglo de numpy. Esto se puede interpretar como las dimensiones de una matriz.\n",
        "    \n",
        "2.- **np.reshape()** se utiliza para cambiar las dimensiones del arreglo (matriz) de numpy."
      ]
    },
    {
      "cell_type": "markdown",
      "metadata": {
        "id": "WIOi4oS-zdxK"
      },
      "source": [
        "<font size = 4>\n",
        "\n",
        "Estas funciones son muy frecuentes al implementar redes neuronales convolucionales. Esto ya que se suele modelar a las imágenes como un arreglo de pixeles a los cuales les corresponde un valor entre 0 y 255 para cada uno de los colores rojo, verde y azul (RGB). Formando un arreglo de 3 dimensiones ($largo$, $ancho$, $profundo$)."
      ]
    },
    {
      "cell_type": "markdown",
      "metadata": {
        "id": "NQfASL3mztfp"
      },
      "source": [
        "<font size = 4>\n",
        "\n",
        "Este arreglo se reordena como un vector de 1 dimensión: ($largo$$*$$ancho$$*$$profundo$) al introducirlo al modelo de la red neuronal. En inglés a este vector se le denomina 'flatten'."
      ]
    },
    {
      "cell_type": "markdown",
      "metadata": {
        "id": "DaObWAaqz1Mc"
      },
      "source": [
        "<img src = \"https://drive.google.com/uc?id=1chF7upglVNOFlR5x7jNEt4nkSWdb5jAc\" align = \"center\" >"
      ]
    },
    {
      "cell_type": "markdown",
      "source": [
        "<font size = 4>\n",
        "En el ejemplo anterior, la imagen tendría un forma de (3,5,4)"
      ],
      "metadata": {
        "id": "DHKY0ET_hd0v"
      }
    },
    {
      "cell_type": "markdown",
      "metadata": {
        "id": "TAaLvMDo0IMb"
      },
      "source": [
        "<font size = 4>\n",
        "\n",
        "Implementemos la función **np.reshape** reordenando un arreglo de la forma (3,3,2) en un arreglo de la forma (18,1):"
      ]
    },
    {
      "cell_type": "code",
      "metadata": {
        "id": "VUQkxrMlzG_T"
      },
      "source": [
        "#Definimos la función Reshape:\n",
        "\n",
        "def image2vector(image):\n",
        "    \"\"\"\n",
        "    Input:\n",
        "    imagen -- arreglo de numpy de la forma (longitud, anchura, profundidad)\n",
        "\n",
        "    Returns:\n",
        "    v -- vector de la forma (longitud*anchura*profundidad, 1)\n",
        "    \"\"\"\n",
        "\n",
        "    v = image.reshape( (image.shape[0]*image.shape[1]*image.shape[2]) , 1) #image.reshape((3*3*2),1)\n",
        "\n",
        "    return v"
      ],
      "execution_count": null,
      "outputs": []
    },
    {
      "cell_type": "markdown",
      "metadata": {
        "id": "Ltr_iOfl0WpW"
      },
      "source": [
        "<font size=3> Puedes aprender más del atributo **np.reshape()** en el siguiente [enlace](https://numpy.org/doc/stable/reference/generated/numpy.reshape.html)."
      ]
    },
    {
      "cell_type": "code",
      "metadata": {
        "id": "WJSCYvTD0Ow8"
      },
      "source": [
        "#Definimos un arreglo de prueba y comprobamos:\n",
        "\n",
        "image = np.array([[[ 0.67826139,  0.29380381],\n",
        "                   [ 0.90714982,  0.52835647],\n",
        "                   [ 0.4215251 ,  0.45017551]],\n",
        "\n",
        "                  [[ 0.92814219,  0.96677647],\n",
        "                   [ 0.85304703,  0.52351845],\n",
        "                   [ 0.19981397,  0.27417313]],\n",
        "\n",
        "                  [[ 0.60659855,  0.00533165],\n",
        "                   [ 0.10820313,  0.49978937],\n",
        "                   [ 0.34144279,  0.94630077]]\n",
        "                  ])"
      ],
      "execution_count": null,
      "outputs": []
    },
    {
      "cell_type": "code",
      "source": [
        "image.shape"
      ],
      "metadata": {
        "colab": {
          "base_uri": "https://localhost:8080/"
        },
        "id": "NT3C9OZhdblP",
        "outputId": "d6bf59a8-5c4d-473d-8668-5352a17f885f"
      },
      "execution_count": null,
      "outputs": [
        {
          "output_type": "execute_result",
          "data": {
            "text/plain": [
              "(3, 3, 2)"
            ]
          },
          "metadata": {},
          "execution_count": 35
        }
      ]
    },
    {
      "cell_type": "code",
      "source": [],
      "metadata": {
        "id": "E6RBl-2Oghu5"
      },
      "execution_count": null,
      "outputs": []
    },
    {
      "cell_type": "code",
      "source": [],
      "metadata": {
        "id": "HPObF0-tghnC"
      },
      "execution_count": null,
      "outputs": []
    },
    {
      "cell_type": "code",
      "source": [],
      "metadata": {
        "id": "y7bNzh8agg-T"
      },
      "execution_count": null,
      "outputs": []
    },
    {
      "cell_type": "code",
      "metadata": {
        "colab": {
          "base_uri": "https://localhost:8080/"
        },
        "id": "LRbbahdq0fUF",
        "outputId": "fbd8e199-3177-4789-a7f1-d50ad90b77cc"
      },
      "source": [
        "image_flatten = image2vector(image)\n",
        "\n",
        "print(image_flatten, image_flatten.shape)"
      ],
      "execution_count": null,
      "outputs": [
        {
          "output_type": "stream",
          "name": "stdout",
          "text": [
            "[[0.67826139]\n",
            " [0.29380381]\n",
            " [0.90714982]\n",
            " [0.52835647]\n",
            " [0.4215251 ]\n",
            " [0.45017551]\n",
            " [0.92814219]\n",
            " [0.96677647]\n",
            " [0.85304703]\n",
            " [0.52351845]\n",
            " [0.19981397]\n",
            " [0.27417313]\n",
            " [0.60659855]\n",
            " [0.00533165]\n",
            " [0.10820313]\n",
            " [0.49978937]\n",
            " [0.34144279]\n",
            " [0.94630077]] (18, 1)\n"
          ]
        }
      ]
    },
    {
      "cell_type": "markdown",
      "metadata": {
        "id": "y_ocxbVf9rml"
      },
      "source": [
        "<font size = 5, color = \"blue\">\n",
        "5.- Normalización y Broadcast"
      ]
    },
    {
      "cell_type": "markdown",
      "metadata": {
        "id": "EOxuFzEQ9u_r"
      },
      "source": [
        "<font size = 4>\n",
        "\n",
        "Un proceso fundamental en algoritmos de Deep learning es la normalización de los datos con lo que se entrenará una red neuronal.\n",
        "Por ejemplo, es posible normalizar una matriz o arreglo a partir de normalizar cada uno de sus renglones o filas.\n",
        "Esto es, dada la matriz $$x:\n",
        "\\begin{bmatrix}\n",
        "    0 & 3 & 4 \\\\\n",
        "    2 & 6 & 4 \\\\\n",
        "\\end{bmatrix}\\tag{1}$$ entonces $$\\| x\\| = \\begin{bmatrix}\n",
        "    5 \\\\\n",
        "    \\sqrt{56} \\\\\n",
        "\\end{bmatrix}\\tag{2} $$ y        $$ x\\_normalized = \\frac{x}{\\| x\\|} = \\begin{bmatrix}\n",
        "    0 & \\frac{3}{5} & \\frac{4}{5} \\\\\n",
        "    \\frac{2}{\\sqrt{56}} & \\frac{6}{\\sqrt{56}} & \\frac{4}{\\sqrt{56}} \\\\\n",
        "\\end{bmatrix}\\tag{3}$$\n",
        "\n"
      ]
    },
    {
      "cell_type": "markdown",
      "metadata": {
        "id": "oMNE_tMxBlgg"
      },
      "source": [
        "<font size = 4>\n",
        "\n",
        "Implementemos una función que nos permita llevar acabo la operación, haremos uso del atributo de numpy **np.linalg.norm(x)**."
      ]
    },
    {
      "cell_type": "markdown",
      "source": [
        "## <font size=4> Documentación sobre el atributo [np.linealg.norm()](https://numpy.org/doc/stable/reference/generated/numpy.linalg.norm.html)"
      ],
      "metadata": {
        "id": "fPZIL-qviOoe"
      }
    },
    {
      "cell_type": "code",
      "source": [
        "np.linalg.norm?"
      ],
      "metadata": {
        "id": "EOGVCLl6pWwr"
      },
      "execution_count": null,
      "outputs": []
    },
    {
      "cell_type": "code",
      "metadata": {
        "id": "oGunSvCY1GiM"
      },
      "source": [
        "#Función que normaliza cada renglón de un arreglo:\n",
        "\n",
        "def normalizeRows(x):\n",
        "    \"\"\"\n",
        "    Input:\n",
        "    x -- Un arreglo de numpy de la forma (n, m)\n",
        "\n",
        "    Output:\n",
        "    x -- El arreglo x con cada uno de sus renglones normalizado.\n",
        "    \"\"\"\n",
        "    x_norm = np.linalg.norm(x, axis = 1, keepdims = True)\n",
        "\n",
        "\n",
        "    # Broadcast\n",
        "    x = x / x_norm\n",
        "\n",
        "    return x"
      ],
      "execution_count": null,
      "outputs": []
    },
    {
      "cell_type": "code",
      "source": [
        "#Probamos la función:\n",
        "\n",
        "#Dado:\n",
        "x = np.array([\n",
        "    [0, 3, 4],\n",
        "    [1, 6, 4]])\n",
        "\n",
        "#Con dimensiones:\n",
        "x.shape"
      ],
      "metadata": {
        "colab": {
          "base_uri": "https://localhost:8080/"
        },
        "id": "eJFkBNcjmhoS",
        "outputId": "59b3b1e6-eadd-46c7-f167-0d5a810c17dc"
      },
      "execution_count": null,
      "outputs": [
        {
          "output_type": "execute_result",
          "data": {
            "text/plain": [
              "(2, 1)"
            ]
          },
          "metadata": {},
          "execution_count": 26
        }
      ]
    },
    {
      "cell_type": "code",
      "metadata": {
        "id": "1H_awYIm_qxo",
        "colab": {
          "base_uri": "https://localhost:8080/"
        },
        "outputId": "1c9a4b0a-efad-49fb-be46-66e1a00badbd"
      },
      "source": [
        "x_normalizada = normalizeRows(x)\n",
        "x_normalizada"
      ],
      "execution_count": null,
      "outputs": [
        {
          "output_type": "execute_result",
          "data": {
            "text/plain": [
              "array([[0.        , 0.6       , 0.8       ],\n",
              "       [0.13736056, 0.82416338, 0.54944226]])"
            ]
          },
          "metadata": {},
          "execution_count": 47
        }
      ]
    },
    {
      "cell_type": "markdown",
      "source": [
        "<font size = 4>\n",
        "\n",
        "Paso a paso:"
      ],
      "metadata": {
        "id": "1glrQ702m6uV"
      }
    },
    {
      "cell_type": "markdown",
      "metadata": {
        "id": "E-x3bE_ILGfA"
      },
      "source": [
        "<font size=4> Puedes entender mejor el Broadcasting [aquí](https://numpy.org/doc/stable/user/basics.broadcasting.html)"
      ]
    },
    {
      "cell_type": "markdown",
      "source": [
        "###Ejercicio"
      ],
      "metadata": {
        "id": "CcRMIaHTxmZC"
      }
    },
    {
      "cell_type": "markdown",
      "source": [
        "## <font size=4> Sobre la función [Softmax](https://es.wikipedia.org/wiki/Funci%C3%B3n_SoftMax)"
      ],
      "metadata": {
        "id": "VlXIsRpaxqK_"
      }
    },
    {
      "cell_type": "markdown",
      "metadata": {
        "id": "HnzAh5FZLNlV"
      },
      "source": [
        "<font size = 4>\n",
        "\n",
        "Como un ejercicio extra de broadcasting implementemos la función **Softmax**, esta se define como:\n",
        "    \n",
        "    \n",
        "- $ \\text{Sea } x \\in \\mathbb{R}^{1\\times n} \\text{,       } softmax(x) = softmax(\\begin{bmatrix}\n",
        "    x_1  &&\n",
        "    x_2 &&\n",
        "    ...  &&\n",
        "    x_n  \n",
        "\\end{bmatrix}) = \\begin{bmatrix}\n",
        "     \\frac{e^{x_1}}{\\sum_{j}e^{x_j}}  &&\n",
        "    \\frac{e^{x_2}}{\\sum_{j}e^{x_j}}  &&\n",
        "    ...  &&\n",
        "    \\frac{e^{x_n}}{\\sum_{j}e^{x_j}}\n",
        "\\end{bmatrix} $\n",
        "\n",
        "- $\\text{Para un arreglo } x \\in \\mathbb{R}^{m \\times n} \\text{,  $x_{ij}$ asigna al elemento en el $i^{th}$ renglon y $j^{th}$ columna de $x$, entonces tenemos: }$  $$softmax(x) = softmax\\begin{bmatrix}\n",
        "    x_{11} & x_{12} & x_{13} & \\dots  & x_{1n} \\\\\n",
        "    x_{21} & x_{22} & x_{23} & \\dots  & x_{2n} \\\\\n",
        "    \\vdots & \\vdots & \\vdots & \\ddots & \\vdots \\\\\n",
        "    x_{m1} & x_{m2} & x_{m3} & \\dots  & x_{mn}\n",
        "\\end{bmatrix} = \\begin{bmatrix}\n",
        "    \\frac{e^{x_{11}}}{\\sum_{j}e^{x_{1j}}} & \\frac{e^{x_{12}}}{\\sum_{j}e^{x_{1j}}} & \\frac{e^{x_{13}}}{\\sum_{j}e^{x_{1j}}} & \\dots  & \\frac{e^{x_{1n}}}{\\sum_{j}e^{x_{1j}}} \\\\\n",
        "    \\frac{e^{x_{21}}}{\\sum_{j}e^{x_{2j}}} & \\frac{e^{x_{22}}}{\\sum_{j}e^{x_{2j}}} & \\frac{e^{x_{23}}}{\\sum_{j}e^{x_{2j}}} & \\dots  & \\frac{e^{x_{2n}}}{\\sum_{j}e^{x_{2j}}} \\\\\n",
        "    \\vdots & \\vdots & \\vdots & \\ddots & \\vdots \\\\\n",
        "    \\frac{e^{x_{m1}}}{\\sum_{j}e^{x_{mj}}} & \\frac{e^{x_{m2}}}{\\sum_{j}e^{x_{mj}}} & \\frac{e^{x_{m3}}}{\\sum_{j}e^{x_{mj}}} & \\dots  & \\frac{e^{x_{mn}}}{\\sum_{j}e^{x_{mj}}}\n",
        "\\end{bmatrix} = \\begin{pmatrix}\n",
        "    softmax\\text{(first row of x)}  \\\\\n",
        "    softmax\\text{(second row of x)} \\\\\n",
        "    ...  \\\\\n",
        "    softmax\\text{(last row of x)} \\\\\n",
        "\\end{pmatrix} $$"
      ]
    },
    {
      "cell_type": "code",
      "metadata": {
        "id": "F090ulNxKnSh"
      },
      "source": [
        "# EJERCICIO: Implementa la función softmax descrita previamente\n",
        "\n",
        "### HINT visita el link: https://numpy.org/doc/stable/reference/generated/numpy.sum.html\n",
        "\n",
        "#Función Softmax:\n",
        "\n",
        "def softmax(x):\n",
        "    \"\"\"\n",
        "    Input:\n",
        "    x -- Un arreglo con dimensiones (n,m)\n",
        "\n",
        "    Output:\n",
        "    s -- Un arreglo igual a la función softmax de x con dimensiones (n,m)\n",
        "    \"\"\"\n",
        "\n",
        "\n",
        "   #Broadcast\n",
        "    s =\n",
        "    return s"
      ],
      "execution_count": null,
      "outputs": []
    },
    {
      "cell_type": "code",
      "source": [],
      "metadata": {
        "id": "S3K5xMBZArwD"
      },
      "execution_count": null,
      "outputs": []
    },
    {
      "cell_type": "code",
      "metadata": {
        "colab": {
          "base_uri": "https://localhost:8080/"
        },
        "id": "CuA8qxM1XBRE",
        "outputId": "eafb8185-4b21-4d50-a924-4695adf01e5b"
      },
      "source": [
        "#Calculamos la función softmax de un arreglo:\n",
        "\n",
        "x = np.array([[9, 2, 5, 0, 0], [7, 5, 0, 0 ,0]])\n",
        "\n",
        "print(\"x es un arreglo de dimensiones {} y softmax(x) es un arreglo con dimensiones {}. \\n\\nPor su parte softmax(x) tiene los valores: \\n\\n{}\"\\\n",
        "     .format(x.shape, softmax(x).shape, softmax(x)))"
      ],
      "execution_count": null,
      "outputs": [
        {
          "output_type": "stream",
          "name": "stdout",
          "text": [
            "x es un arreglo de dimensiones (2, 5) y softmax(x) es un arreglo con dimensiones (2, 5). \n",
            "\n",
            "Por su parte softmax(x) tiene los valores: \n",
            "\n",
            "[[9.80897665e-01 8.94462891e-04 1.79657674e-02 1.21052389e-04\n",
            "  1.21052389e-04]\n",
            " [8.78679856e-01 1.18916387e-01 8.01252314e-04 8.01252314e-04\n",
            "  8.01252314e-04]]\n"
          ]
        }
      ]
    },
    {
      "cell_type": "code",
      "metadata": {
        "id": "cAWx8PHMXCSl"
      },
      "source": [],
      "execution_count": null,
      "outputs": []
    },
    {
      "cell_type": "code",
      "metadata": {
        "colab": {
          "base_uri": "https://localhost:8080/"
        },
        "id": "Pf36G_iNLZ_l",
        "outputId": "311eb028-dbce-4a22-d5fc-791a7b58c980"
      },
      "source": [
        "#Calculamos la función softmax de un arreglo:\n",
        "\n",
        "x = np.array([[9, 2, 5, 0, 0], [7, 5, 0, 0 ,0]])\n",
        "\n",
        "print(\"x es un arreglo de dimensiones {} y softmax(x) es un arreglo con dimensiones {}. \\n\\nPor su parte softmax(x) tiene los valores: \\n\\n{}\"\\\n",
        "     .format(x.shape, softmax(x).shape, softmax(x)))"
      ],
      "execution_count": null,
      "outputs": [
        {
          "output_type": "stream",
          "text": [
            "x es un arreglo de dimensiones (2, 5) y softmax(x) es un arreglo con dimensiones (2, 5). \n",
            "\n",
            "Por su parte softmax(x) tiene los valores: \n",
            "\n",
            "[[9.80897665e-01 8.94462891e-04 1.79657674e-02 1.21052389e-04\n",
            "  1.21052389e-04]\n",
            " [8.78679856e-01 1.18916387e-01 8.01252314e-04 8.01252314e-04\n",
            "  8.01252314e-04]]\n"
          ],
          "name": "stdout"
        }
      ]
    },
    {
      "cell_type": "markdown",
      "metadata": {
        "id": "COZ054vVLr5L"
      },
      "source": [
        "<font size = 5, color = \"blue\">\n",
        "6.- Vectorización"
      ]
    },
    {
      "cell_type": "markdown",
      "metadata": {
        "id": "rP80SXSOL_45"
      },
      "source": [
        "<font size=4>\n",
        "    \n",
        "Como se ha mencionado, en deep learning se manejan conjuntos de datos muy grandes. De manera que una función no computacionalmente óptima puede convertirse en un gran cuello de botella en el algoritmo y puede dar como resultado un modelo que demore años en ejecutarse. Para asegurarse de que el código sea computacionalmente eficiente se utiliza la vectorización."
      ]
    },
    {
      "cell_type": "code",
      "source": [
        "np.random.seed(7)"
      ],
      "metadata": {
        "id": "67JlbZEmZaj2"
      },
      "execution_count": null,
      "outputs": []
    },
    {
      "cell_type": "code",
      "source": [
        "numbers = []\n",
        "for i in range(100000000):\n",
        "  X = np.random.randint(0,1000000)\n",
        "  numbers.append(X)\n",
        "\n",
        "len(numbers)"
      ],
      "metadata": {
        "colab": {
          "base_uri": "https://localhost:8080/"
        },
        "id": "dujXLtgQZaVz",
        "outputId": "49075be1-e65a-4a39-cb6b-5efbaac86279"
      },
      "execution_count": null,
      "outputs": [
        {
          "output_type": "execute_result",
          "data": {
            "text/plain": [
              "100000000"
            ]
          },
          "metadata": {},
          "execution_count": 4
        }
      ]
    },
    {
      "cell_type": "code",
      "source": [
        "numbers_list_1 = np.array(numbers)"
      ],
      "metadata": {
        "id": "akk4UPLVbekf"
      },
      "execution_count": null,
      "outputs": []
    },
    {
      "cell_type": "code",
      "source": [
        "numbers_2 = []\n",
        "for i in range(100000000):\n",
        "  X = np.random.randint(0,1000000)\n",
        "  numbers_2.append(X)\n",
        "\n",
        "len(numbers_2)"
      ],
      "metadata": {
        "id": "PcqZfyhzZmUA"
      },
      "execution_count": null,
      "outputs": []
    },
    {
      "cell_type": "code",
      "source": [
        "numbers_list_2 = np.array(numbers_2)"
      ],
      "metadata": {
        "id": "0r70rHNIboEg"
      },
      "execution_count": null,
      "outputs": []
    },
    {
      "cell_type": "code",
      "source": [
        "import time  #Biblioteca utilizada para contar el tiempo de ejecución."
      ],
      "metadata": {
        "id": "Erltg18HZZqw"
      },
      "execution_count": null,
      "outputs": []
    },
    {
      "cell_type": "code",
      "metadata": {
        "colab": {
          "base_uri": "https://localhost:8080/"
        },
        "id": "9oDpd5NULcpF",
        "outputId": "e5850a24-b3f1-4213-e929-34fb51d1ceba"
      },
      "source": [
        "#Implementación del producto punto clásico entre vectores\n",
        "\n",
        "tic = time.process_time()\n",
        "dot = 0\n",
        "for i in range(len(numbers)):\n",
        "    dot += numbers[i]*numbers_2[i]\n",
        "toc = time.process_time()\n",
        "print (\"Producto punto = \" + str(dot) + \"\\n ----- Tiempo de cálculo = \" + str(1000*(toc - tic)) + \"ms\")\n"
      ],
      "execution_count": null,
      "outputs": [
        {
          "output_type": "stream",
          "name": "stdout",
          "text": [
            "Producto punto = 24999910115658663952\n",
            " ----- Tiempo de cálculo = 27201.108126000006ms\n"
          ]
        }
      ]
    },
    {
      "cell_type": "markdown",
      "metadata": {
        "id": "xfrRc8sRMKOh"
      },
      "source": [
        "<font size=4>\n",
        "    \n",
        "Comparemos con las mismas operaciones utilizando la vectorización de Numpy:"
      ]
    },
    {
      "cell_type": "code",
      "metadata": {
        "colab": {
          "base_uri": "https://localhost:8080/"
        },
        "id": "8wysd0oPMGv_",
        "outputId": "ea8c0c53-d7f1-443c-a6d1-d0336a45f85b"
      },
      "source": [
        "#Producto punto entre vectores de numpy\n",
        "\n",
        "tic = time.process_time()\n",
        "dot = np.dot(numbers,numbers_2)\n",
        "toc = time.process_time()\n",
        "print (\"Producto punto = \" + str(dot) + \"\\n ----- Tiempo de cálculo = \" + str(1000*(toc - tic)) + \"ms\")"
      ],
      "execution_count": null,
      "outputs": [
        {
          "output_type": "stream",
          "name": "stdout",
          "text": [
            "Producto punto = 6553166041949112336\n",
            " ----- Tiempo de cálculo = 16547.686706000037ms\n"
          ]
        }
      ]
    },
    {
      "cell_type": "markdown",
      "metadata": {
        "id": "riJUggTAM_p7"
      },
      "source": [
        "VECTORIZACIÓN ~ técnicas que perminten \"quitar\"  bucles explícitos en el código"
      ]
    },
    {
      "cell_type": "code",
      "source": [],
      "metadata": {
        "id": "cLjEYNJr2_5y"
      },
      "execution_count": null,
      "outputs": []
    }
  ]
}